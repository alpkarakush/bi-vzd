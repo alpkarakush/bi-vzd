{
 "cells": [
  {
   "cell_type": "markdown",
   "metadata": {},
   "source": [
    "# Naive Bayes"
   ]
  },
  {
   "cell_type": "markdown",
   "metadata": {},
   "source": [
    "V tomto notebooku se budeme zabývat využitím klasifikace pomocí Naivního Bayese. Speciálně se budeme soustředit na klasifikaci textů.\n",
    " \n",
    "Základem pro tento dokument je tutorial ze scikit-learn zaměřený na analýzu textů [zde](https://scikit-learn.org/stable/tutorial/text_analytics/working_with_text_data.html)."
   ]
  },
  {
   "cell_type": "code",
   "execution_count": null,
   "metadata": {},
   "outputs": [],
   "source": [
    "import pandas as pd\n",
    "import numpy as np\n",
    "from scipy.misc import logsumexp\n",
    "from sklearn.naive_bayes import BernoulliNB, MultinomialNB\n",
    "from sklearn.datasets import fetch_20newsgroups\n",
    "from sklearn.feature_extraction.text import CountVectorizer\n",
    "from sklearn.pipeline import Pipeline\n",
    "\n",
    "import matplotlib.pyplot as plt\n",
    "import matplotlib\n",
    "%matplotlib inline\n",
    "\n",
    "np.set_printoptions(precision=5, suppress=True)  # suppress scientific float notation (so 0.000 is printed as 0.)"
   ]
  },
  {
   "cell_type": "markdown",
   "metadata": {},
   "source": [
    "## Načtení dat\n",
    "\n",
    "Využijeme data ze zdroje [20 Newsgroups](http://qwone.com/~jason/20Newsgroups/), který obsahuje různě kategorizované texty z internetových diskusí.\n",
    "\n",
    "Pro jednoduchost se zaměříme pouze na dvě kategorie - hokej a auta."
   ]
  },
  {
   "cell_type": "code",
   "execution_count": null,
   "metadata": {},
   "outputs": [],
   "source": [
    "categories = ['rec.sport.hockey', 'rec.autos']\n",
    "train_data = fetch_20newsgroups(subset='train', categories=categories, shuffle=True, random_state=1)\n",
    "test_data = fetch_20newsgroups(subset='test', categories=categories, shuffle=True, random_state=1)"
   ]
  },
  {
   "cell_type": "code",
   "execution_count": null,
   "metadata": {},
   "outputs": [],
   "source": [
    "# Prozkoumání testovacích dat\n",
    "print('Kategorie:', test_data.target_names)\n",
    "print('Train data length:', len(train_data.data))\n",
    "\n",
    "# print(train_data.data[0])\n",
    "print('Kategorie prvního dokumentu:',train_data.target_names[train_data.target[0]])"
   ]
  },
  {
   "cell_type": "markdown",
   "metadata": {},
   "source": [
    "## Transformace do bag-of-words reprezentace\n",
    "\n",
    "Použijeme k tomu CountVectorizer ze scikit-learn."
   ]
  },
  {
   "cell_type": "code",
   "execution_count": null,
   "metadata": {},
   "outputs": [],
   "source": [
    "# Nejprve načteme slovník\n",
    "with open('vocabulary.txt','r') as f:\n",
    "    vocab=f.read().splitlines()\n",
    "print(len(vocab))"
   ]
  },
  {
   "cell_type": "code",
   "execution_count": null,
   "metadata": {},
   "outputs": [],
   "source": [
    "count_vect = CountVectorizer(vocabulary = vocab)\n",
    "X_train_counts = count_vect.fit_transform(train_data.data)\n",
    "print('Bag of words shape', X_train_counts.shape)\n",
    "print('Bag of words type', type(X_train_counts))"
   ]
  },
  {
   "cell_type": "markdown",
   "metadata": {},
   "source": [
    "Výstupem je scipy.sparse matrix."
   ]
  },
  {
   "cell_type": "code",
   "execution_count": null,
   "metadata": {},
   "outputs": [],
   "source": [
    "# zobrazení prvního řádku - tj.příznaků prvního dokumentu\n",
    "X_train_counts[0,:20].toarray()"
   ]
  },
  {
   "cell_type": "markdown",
   "metadata": {},
   "source": [
    "We can also extract the vocabulary..."
   ]
  },
  {
   "cell_type": "code",
   "execution_count": null,
   "metadata": {},
   "outputs": [],
   "source": [
    "# several words from the dictionary together with their indices in the dictionary\n",
    "print(type(count_vect.vocabulary_))\n",
    "print(len(count_vect.vocabulary_))\n",
    "print(len(vocab))\n",
    "\n",
    "print({vocab[i]:X_train_counts[0,i] for i in range(20)})"
   ]
  },
  {
   "cell_type": "markdown",
   "metadata": {},
   "source": [
    "### TASK 1 - aplikujte nejprve jednoduchý model - Bernoulli Naive Bayes\n",
    "\n",
    "* Reprezentujte dokument pomocí indikátorů výskytů slov ze slovníku vocab\n",
    "* Natrénujte Naivního Bayese s Bernoulliho rozdělením příznaků\n",
    "* Otestujte kvalitu predikce na ručně určených dokumentech\n",
    "* Odhadněte přesnost (acccuracy) predikce s využitím testovací množiny test_data"
   ]
  },
  {
   "cell_type": "code",
   "execution_count": null,
   "metadata": {},
   "outputs": [],
   "source": [
    "# Vlastní dokumenty pro testování\n",
    "docs_new = [\"Lets play hockey.\", \"I don't like their seats\"]\n",
    "\n",
    "# alternatives to play with\n",
    "# docs_new = [\"Lets play hockey.\", \"I don't like their game\"]"
   ]
  },
  {
   "cell_type": "code",
   "execution_count": null,
   "metadata": {},
   "outputs": [],
   "source": [
    "# Your code here\n"
   ]
  },
  {
   "cell_type": "markdown",
   "metadata": {},
   "source": [
    "### TASK 2 - aplikujte složitější model - Multinomial Naive Bayes\n",
    "\n",
    "* Reprezentujte dokument pomocí počtů výskytů slov ze slovníku vocab - tj. bag-of-words reprezentace\n",
    "* Natrénujte multinomického naivního Bayese\n",
    "* Otestujte kvalitu predikce na ručně určených dokumentech\n",
    "* Odhadněte přesnost (acccuracy) predikce s využitím testovací množiny test_data"
   ]
  },
  {
   "cell_type": "code",
   "execution_count": null,
   "metadata": {},
   "outputs": [],
   "source": [
    "# Your code here\n"
   ]
  },
  {
   "cell_type": "markdown",
   "metadata": {},
   "source": [
    "### Task 3 - Implementujte Naivní Bayesův klasifikátor v situaci, kdy má část příznaků kategorické a část Bernoulliho rozdělení\n",
    "\n",
    "* První příznak je kategorický (se třemi kategoriemi)\n",
    "* Zbývajících 10 příznaků má Bernoulliho rozdělení\n",
    "\n",
    "**Hint** - kategorický příznak převeďte na 3 indikátorové příznaky a odděleně použijte MultinomialNB.\n",
    "Potom zvlášt odhadněte zbylé Bernoulliho příznaky a na závěr získané pravděpodobnosti pronásobte. \n",
    "Pozor - je třeba v jednom z modelů zafixovat rozdělení $Y$ na rovnoměrné - aby se pravděpodobnosti $P(Y = y)$ nenásobili dvakrát."
   ]
  },
  {
   "cell_type": "code",
   "execution_count": null,
   "metadata": {},
   "outputs": [],
   "source": [
    "# Vytvoření datasetu\n",
    "class_count = 10\n",
    "X00 = np.random.choice(3, size = (class_count,1), p = [0.4,0.4,0.2])\n",
    "X01 = np.random.choice(3, size = (class_count,1), p = [0.2,0.5,0.3])\n",
    "X0 = np.concatenate([X00,X01])\n",
    "print(X0.shape)\n",
    "\n",
    "X10 = np.random.choice(2, size = (class_count,5), p = [0.4,0.6])\n",
    "X11 = np.random.choice(2, size = (class_count,5), p = [0.6,0.4])\n",
    "X1 = np.concatenate([X10,X11])\n",
    "print(X1.shape)\n",
    "\n",
    "X20 = np.random.choice(2, size = (class_count,5), p = [0.4,0.6])\n",
    "X21 = np.random.choice(2, size = (class_count,5), p = [0.2,0.8])\n",
    "X2 = np.concatenate([X20,X21])\n",
    "print(X2.shape)\n",
    "\n",
    "X = np.concatenate([X0,X1,X2],axis = 1)\n",
    "print(X.shape)\n",
    "\n",
    "Y = np.concatenate([np.ones(class_count-3), np.zeros(class_count+3)])\n",
    "print(Y)"
   ]
  },
  {
   "cell_type": "code",
   "execution_count": null,
   "metadata": {},
   "outputs": [],
   "source": [
    "# Your code here\n"
   ]
  }
 ],
 "metadata": {
  "kernelspec": {
   "display_name": "Python 3",
   "language": "python",
   "name": "python3"
  },
  "language_info": {
   "codemirror_mode": {
    "name": "ipython",
    "version": 3
   },
   "file_extension": ".py",
   "mimetype": "text/x-python",
   "name": "python",
   "nbconvert_exporter": "python",
   "pygments_lexer": "ipython3",
   "version": "3.6.6"
  }
 },
 "nbformat": 4,
 "nbformat_minor": 2
}
