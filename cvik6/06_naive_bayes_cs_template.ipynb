{
 "cells": [
  {
   "cell_type": "markdown",
   "metadata": {},
   "source": [
    "# Naive Bayes"
   ]
  },
  {
   "cell_type": "markdown",
   "metadata": {},
   "source": [
    "V tomto notebooku se budeme zabývat využitím klasifikace pomocí Naivního Bayese. Speciálně se budeme soustředit na klasifikaci textů.\n",
    " \n",
    "Základem pro tento dokument je tutorial ze scikit-learn zaměřený na analýzu textů [zde](https://scikit-learn.org/stable/tutorial/text_analytics/working_with_text_data.html)."
   ]
  },
  {
   "cell_type": "code",
   "execution_count": 1,
   "metadata": {},
   "outputs": [],
   "source": [
    "import pandas as pd\n",
    "import numpy as np\n",
    "from scipy.misc import logsumexp\n",
    "from sklearn.naive_bayes import BernoulliNB, MultinomialNB\n",
    "from sklearn.datasets import fetch_20newsgroups\n",
    "from sklearn.feature_extraction.text import CountVectorizer\n",
    "from sklearn.pipeline import Pipeline\n",
    "\n",
    "import matplotlib.pyplot as plt\n",
    "import matplotlib\n",
    "%matplotlib inline\n",
    "\n",
    "np.set_printoptions(precision=5, suppress=True)  # suppress scientific float notation (so 0.000 is printed as 0.)"
   ]
  },
  {
   "cell_type": "markdown",
   "metadata": {},
   "source": [
    "## Načtení dat\n",
    "\n",
    "Využijeme data ze zdroje [20 Newsgroups](http://qwone.com/~jason/20Newsgroups/), který obsahuje různě kategorizované texty z internetových diskusí.\n",
    "\n",
    "Pro jednoduchost se zaměříme pouze na dvě kategorie - hokej a auta."
   ]
  },
  {
   "cell_type": "code",
   "execution_count": 2,
   "metadata": {},
   "outputs": [
    {
     "name": "stderr",
     "output_type": "stream",
     "text": [
      "Downloading 20news dataset. This may take a few minutes.\n",
      "Downloading dataset from https://ndownloader.figshare.com/files/5975967 (14 MB)\n"
     ]
    }
   ],
   "source": [
    "categories = ['rec.sport.hockey', 'rec.autos']\n",
    "train_data = fetch_20newsgroups(subset='train', categories=categories, shuffle=True, random_state=1)\n",
    "test_data = fetch_20newsgroups(subset='test', categories=categories, shuffle=True, random_state=1)"
   ]
  },
  {
   "cell_type": "code",
   "execution_count": 13,
   "metadata": {},
   "outputs": [
    {
     "name": "stdout",
     "output_type": "stream",
     "text": [
      "Kategorie: ['rec.autos', 'rec.sport.hockey']\n",
      "Train data length: 1194\n",
      "From: rmt6r@faraday.clas.Virginia.EDU (Roy Matthew Thigpen)\n",
      "Subject: Re: Ad said Nissan Altima best seller?\n",
      "Organization: University of Virginia\n",
      "Lines: 35\n",
      "\n",
      "boyle@cactus.org  writes:\n",
      "> In article <1qv7mn$dql@menudo.uh.edu> thang@harebell.egr.uh.edu (Chin-Heng  Thang) writes:\n",
      "> >\tRecently, I saw an ad for the altima which says that it is the  \n",
      "> >best seller for the past 6 months, is that true? \n",
      "> >\n",
      "> \n",
      "> I too was puzzled by this obvious untruth. What I think is going on is that\n",
      "> Nissan claims that the Altima is \"the best selling new car namelplate in\n",
      "> the US\" (I think I have this near verbatim). Lee Iaccoca's statistics\n",
      "> dept. would have been proud of that sentence. What they mean, I think, is\n",
      "> that of all \"totally new models\", i.e. cars never sold before in any\n",
      "> form, the Altima is the best seller, thereby eliminating Accord, Taurus\n",
      "> etc. \n",
      " THis is from the same people who make the claim that our minivan is outsellin\n",
      "theirs.... implying that the Nissan Quest/ Murcury Villager are out-selling\n",
      "the Chrysler mini-vans.... not only is this not true at all, but it was a stupid\n",
      "claim to make... the commercial was part of the introduction campaign for the \n",
      "vans.  Kind of a bold statement to make when you haven't even sold one yet, eh?\n",
      "\n",
      "\n",
      "And I thought Buick and Oldsmobile where bad.  Shame on you Nissan and \n",
      "Mercury!\n",
      "> \n",
      "> Any other interpretations?\n",
      "> \n",
      "> \n",
      "> Craig\n",
      "> >\t Does anyone has anyhting regarding the # of cars sold for the  \n",
      "> >past 6 months?\n",
      "> >\n",
      "> >\n",
      "> >\n",
      "> >tony\n",
      "> \n",
      "> \n",
      "\n",
      "Kategorie prvního dokumentu: rec.autos\n"
     ]
    }
   ],
   "source": [
    "# Prozkoumání testovacích dat\n",
    "print('Kategorie:', test_data.target_names)\n",
    "print('Train data length:', len(train_data.data))\n",
    "\n",
    "#print(train_data.data[0])\n",
    "print('Kategorie prvního dokumentu:',train_data.target_names[train_data.target[0]])"
   ]
  },
  {
   "cell_type": "markdown",
   "metadata": {},
   "source": [
    "## Transformace do bag-of-words reprezentace\n",
    "\n",
    "Použijeme k tomu CountVectorizer ze scikit-learn."
   ]
  },
  {
   "cell_type": "code",
   "execution_count": 21,
   "metadata": {},
   "outputs": [
    {
     "name": "stdout",
     "output_type": "stream",
     "text": [
      "61188\n"
     ]
    }
   ],
   "source": [
    "# Nejprve načteme slovník\n",
    "with open('vocabulary.txt','r') as f: #musi podporovat __enter__() a __exit__()\n",
    "    vocab=f.read().splitlines()\n",
    "print(len(vocab))"
   ]
  },
  {
   "cell_type": "code",
   "execution_count": 22,
   "metadata": {},
   "outputs": [
    {
     "name": "stdout",
     "output_type": "stream",
     "text": [
      "Bag of words shape (1194, 61188)\n",
      "Bag of words type <class 'scipy.sparse.csr.csr_matrix'>\n"
     ]
    }
   ],
   "source": [
    "count_vect = CountVectorizer(vocabulary = vocab)\n",
    "X_train_counts = count_vect.fit_transform(train_data.data) #\n",
    "print('Bag of words shape', X_train_counts.shape)\n",
    "print('Bag of words type', type(X_train_counts))"
   ]
  },
  {
   "cell_type": "markdown",
   "metadata": {},
   "source": [
    "Výstupem je scipy.sparse matrix."
   ]
  },
  {
   "cell_type": "code",
   "execution_count": 6,
   "metadata": {},
   "outputs": [
    {
     "data": {
      "text/plain": [
       "array([[0, 0, 0, 0, 0, 0, 0, 0, 0, 0, 0, 6, 0, 0, 0, 2, 0, 0, 0, 0]])"
      ]
     },
     "execution_count": 6,
     "metadata": {},
     "output_type": "execute_result"
    }
   ],
   "source": [
    "# zobrazení prvního řádku - tj.příznaků prvního dokumentu\n",
    "X_train_counts[0,:20].toarray()"
   ]
  },
  {
   "cell_type": "markdown",
   "metadata": {},
   "source": [
    "We can also extract the vocabulary..."
   ]
  },
  {
   "cell_type": "code",
   "execution_count": 7,
   "metadata": {},
   "outputs": [
    {
     "name": "stdout",
     "output_type": "stream",
     "text": [
      "<class 'dict'>\n",
      "61188\n",
      "61188\n",
      "{'archive': 0, 'name': 0, 'atheism': 0, 'resources': 0, 'alt': 0, 'last': 0, 'modified': 0, 'december': 0, 'version': 0, 'atheist': 0, 'addresses': 0, 'of': 6, 'organizations': 0, 'usa': 0, 'freedom': 0, 'from': 2, 'religion': 0, 'foundation': 0, 'darwin': 0, 'fish': 0}\n"
     ]
    }
   ],
   "source": [
    "# several words from the dictionary together with their indices in the dictionary\n",
    "print(type(count_vect.vocabulary_))\n",
    "print(len(count_vect.vocabulary_))\n",
    "print(len(vocab))\n",
    "\n",
    "print({vocab[i]:X_train_counts[0,i] for i in range(20)})"
   ]
  },
  {
   "cell_type": "markdown",
   "metadata": {},
   "source": [
    "### TASK 1 - aplikujte nejprve jednoduchý model - Bernoulli Naive Bayes\n",
    "\n",
    "* Reprezentujte dokument pomocí indikátorů výskytů slov ze slovníku vocab\n",
    "* Natrénujte Naivního Bayese s Bernoulliho rozdělením příznaků\n",
    "* Otestujte kvalitu predikce na ručně určených dokumentech\n",
    "* Odhadněte přesnost (acccuracy) predikce s využitím testovací množiny test_data"
   ]
  },
  {
   "cell_type": "code",
   "execution_count": 24,
   "metadata": {},
   "outputs": [
    {
     "data": {
      "text/plain": [
       "array([0, 1, 0, ..., 0, 0, 0])"
      ]
     },
     "execution_count": 24,
     "metadata": {},
     "output_type": "execute_result"
    }
   ],
   "source": [
    "train_data."
   ]
  },
  {
   "cell_type": "raw",
   "metadata": {},
   "source": []
  },
  {
   "cell_type": "code",
   "execution_count": 34,
   "metadata": {},
   "outputs": [
    {
     "name": "stdout",
     "output_type": "stream",
     "text": [
      "0.9911949685534591\n",
      "0.9911949685534591\n"
     ]
    }
   ],
   "source": [
    "# Vlastní dokumenty pro testování\n",
    "docs_new = [\"Lets play hockey.\", \"I don't like their seats\"]\n",
    "\n",
    "count_v = CountVectorizer(vocabulary = vocab, binary=True)\n",
    "X_train_counts = count_v.fit_transform(train_data.data)\n",
    "x_target_data = count_v.fit_transform(test_data.data)\n",
    "clf = BernoulliNB()\n",
    "clf.fit(X_train_counts, train_data.target)\n",
    "\n",
    "predicted = clf.predict(x_target_data)\n",
    "probabs   = clf.predict_proba(x_target_data)\n",
    "trues= 0\n",
    "falses= 0\n",
    "print(np.mean(predicted == test_data.target))\n",
    "print(clf.score(x_target_data,test_data.target))\n",
    "# alternatives to play with\n",
    "# docs_new = [\"Lets play hockey.\", \"I don't like their game\"]"
   ]
  },
  {
   "cell_type": "code",
   "execution_count": 9,
   "metadata": {},
   "outputs": [],
   "source": [
    "# Your code here\n"
   ]
  },
  {
   "cell_type": "markdown",
   "metadata": {},
   "source": [
    "### TASK 2 - aplikujte složitější model - Multinomial Naive Bayes\n",
    "\n",
    "* Reprezentujte dokument pomocí počtů výskytů slov ze slovníku vocab - tj. bag-of-words reprezentace\n",
    "* Natrénujte multinomického naivního Bayese\n",
    "* Otestujte kvalitu predikce na ručně určených dokumentech\n",
    "* Odhadněte přesnost (acccuracy) predikce s využitím testovací množiny test_data"
   ]
  },
  {
   "cell_type": "code",
   "execution_count": 40,
   "metadata": {},
   "outputs": [
    {
     "name": "stdout",
     "output_type": "stream",
     "text": [
      "[[0.00006 0.99994]\n",
      " [0.63915 0.36085]]\n"
     ]
    },
    {
     "data": {
      "text/plain": [
       "0.9962264150943396"
      ]
     },
     "execution_count": 40,
     "metadata": {},
     "output_type": "execute_result"
    }
   ],
   "source": [
    "# Your code here\n",
    "#docs_new = [\"Lets play hockey.\", \"I don't like their game\"]\n",
    "docs_new = [\"Lets play hockey.\", \"I don't like their seats\"]\n",
    "\n",
    "count_v = CountVectorizer(vocabulary = vocab, binary=False)\n",
    "X_train_counts = count_v.fit_transform(train_data.data)\n",
    "x_target_data = count_v.transform(test_data.data)\n",
    "example_data = count_v.transform(docs_new)\n",
    "clf = MultinomialNB()\n",
    "clf.fit(X_train_counts, train_data.target)\n",
    "\n",
    "predicted = clf.predict_proba(example_data)\n",
    "print(predicted)\n",
    "clf.score(x_target_data, test_data.target)"
   ]
  },
  {
   "cell_type": "markdown",
   "metadata": {},
   "source": [
    "### Task 3 - Implementujte Naivní Bayesův klasifikátor v situaci, kdy má část příznaků kategorické a část Bernoulliho rozdělení\n",
    "\n",
    "* První příznak je kategorický (se třemi kategoriemi)\n",
    "* Zbývajících 10 příznaků má Bernoulliho rozdělení\n",
    "\n",
    "**Hint** - kategorický příznak převeďte na 3 indikátorové příznaky a odděleně použijte MultinomialNB.\n",
    "Potom zvlášt odhadněte zbylé Bernoulliho příznaky a na závěr získané pravděpodobnosti pronásobte. \n",
    "Pozor - je třeba v jednom z modelů zafixovat rozdělení $Y$ na rovnoměrné - aby se pravděpodobnosti $P(Y = y)$ nenásobili dvakrát."
   ]
  },
  {
   "cell_type": "code",
   "execution_count": 11,
   "metadata": {},
   "outputs": [
    {
     "name": "stdout",
     "output_type": "stream",
     "text": [
      "(20, 1)\n",
      "(20, 5)\n",
      "(20, 5)\n",
      "(20, 11)\n",
      "[1. 1. 1. 1. 1. 1. 1. 0. 0. 0. 0. 0. 0. 0. 0. 0. 0. 0. 0. 0.]\n"
     ]
    }
   ],
   "source": [
    "# Vytvoření datasetu\n",
    "class_count = 10\n",
    "X00 = np.random.choice(3, size = (class_count,1), p = [0.4,0.4,0.2])\n",
    "X01 = np.random.choice(3, size = (class_count,1), p = [0.2,0.5,0.3])\n",
    "X0 = np.concatenate([X00,X01])\n",
    "print(X0.shape)\n",
    "\n",
    "X10 = np.random.choice(2, size = (class_count,5), p = [0.4,0.6])\n",
    "X11 = np.random.choice(2, size = (class_count,5), p = [0.6,0.4])\n",
    "X1 = np.concatenate([X10,X11])\n",
    "print(X1.shape)\n",
    "\n",
    "X20 = np.random.choice(2, size = (class_count,5), p = [0.4,0.6])\n",
    "X21 = np.random.choice(2, size = (class_count,5), p = [0.2,0.8])\n",
    "X2 = np.concatenate([X20,X21])\n",
    "print(X2.shape)\n",
    "\n",
    "X = np.concatenate([X0,X1,X2],axis = 1)\n",
    "print(X.shape)\n",
    "\n",
    "Y = np.concatenate([np.ones(class_count-3), np.zeros(class_count+3)])\n",
    "print(Y)"
   ]
  },
  {
   "cell_type": "code",
   "execution_count": 41,
   "metadata": {},
   "outputs": [
    {
     "data": {
      "text/plain": [
       "array([[0],\n",
       "       [1],\n",
       "       [2],\n",
       "       [1],\n",
       "       [2],\n",
       "       [0],\n",
       "       [1],\n",
       "       [0],\n",
       "       [2],\n",
       "       [0],\n",
       "       [0],\n",
       "       [2],\n",
       "       [2],\n",
       "       [0],\n",
       "       [2],\n",
       "       [2],\n",
       "       [0],\n",
       "       [1],\n",
       "       [1],\n",
       "       [2]])"
      ]
     },
     "execution_count": 41,
     "metadata": {},
     "output_type": "execute_result"
    }
   ],
   "source": [
    "# Your code here\n",
    "\n",
    "X0\n"
   ]
  }
 ],
 "metadata": {
  "kernelspec": {
   "display_name": "Python 3",
   "language": "python",
   "name": "python3"
  },
  "language_info": {
   "codemirror_mode": {
    "name": "ipython",
    "version": 3
   },
   "file_extension": ".py",
   "mimetype": "text/x-python",
   "name": "python",
   "nbconvert_exporter": "python",
   "pygments_lexer": "ipython3",
   "version": "3.6.6"
  }
 },
 "nbformat": 4,
 "nbformat_minor": 2
}
