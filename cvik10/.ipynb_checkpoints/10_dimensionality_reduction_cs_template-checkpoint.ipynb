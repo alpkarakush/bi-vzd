{
 "cells": [
  {
   "cell_type": "markdown",
   "metadata": {},
   "source": [
    "# Ručně psané číslice\n",
    "\n",
    "**Cíl:** \n",
    "\n",
    "Provedeme PCA s cílem analyzovat strukturu dat. Konkrétně se zaměříme na shluky v datasetu ručně psaných číslic\n",
    "\n",
    "\n",
    "`scikit-Learn` obsahuje několik datasetů. My se blíže zaměříme na dataset `digits`, který obsahuje obrázky ručně psaných číslic, reprezentovaných maticí $8 \\times 8$ (resp. $64$ rozměrným vektorem) pixelů v 16ti stupních šedi. Navíc jsou všechny obrázky olabelované hodnotou číslic, které jsou na nich napsané. Dataset lze načíst funkcí `load_digits`, která vrací dictionary."
   ]
  },
  {
   "cell_type": "code",
   "execution_count": null,
   "metadata": {},
   "outputs": [],
   "source": [
    "import numpy as np \n",
    "import matplotlib.pyplot as plt\n",
    "import matplotlib\n",
    "%matplotlib inline\n",
    "np.set_printoptions(precision=5, suppress=True)  # suppress scientific float notation (so 0.000 is printed as 0.)\n",
    "\n",
    "\n",
    "# Načtení datasetu digits\n",
    "from sklearn.datasets import load_digits\n",
    "digits = load_digits()\n",
    "# Obrázky jsou uložené v `digits.data' a příslušné labely v `digits.target`:\n",
    "X_digits, y_digits = digits.data, digits.target\n",
    "print(digits.keys())\n",
    "print('Rozměry datasetu:', X_digits.shape)\n",
    "print('Maximální hodnota:', X_digits.max(), '\\tMinimální hodnota:', X_digits.min())"
   ]
  },
  {
   "cell_type": "code",
   "execution_count": null,
   "metadata": {},
   "outputs": [],
   "source": [
    "print(digits.DESCR)"
   ]
  },
  {
   "cell_type": "markdown",
   "metadata": {},
   "source": [
    "#### Pojďme si data prohlédnout:"
   ]
  },
  {
   "cell_type": "code",
   "execution_count": null,
   "metadata": {},
   "outputs": [],
   "source": [
    "n_row, n_col = 4, 5\n",
    "\n",
    "def print_digits(images, y, max_n=10):\n",
    "    fig = plt.figure(figsize=(n_col, n_row))\n",
    "    fig.subplots_adjust(hspace = 0.4)\n",
    "    i=0\n",
    "    while i < max_n and i < images.shape[0]:\n",
    "        p = fig.add_subplot(n_row, n_col, i + 1, xticks=[], yticks=[])\n",
    "        p.imshow(images[i], cmap='bone', interpolation='nearest')\n",
    "        # Label obrázku podle skutečné hodnoty zobrazené číslice:\n",
    "        p.text(0, -1, str(y[i]))\n",
    "        i = i + 1\n",
    "\n",
    "print_digits(digits.images, y_digits, max_n=20)"
   ]
  },
  {
   "cell_type": "markdown",
   "metadata": {},
   "source": [
    "#### PCA s 10 komponentami"
   ]
  },
  {
   "cell_type": "code",
   "execution_count": null,
   "metadata": {},
   "outputs": [],
   "source": [
    "from sklearn.decomposition import PCA\n",
    "pca = PCA(n_components=10)\n",
    "X_pca = pca.fit_transform(X_digits)\n",
    "for i, explained_variance_ratio in enumerate(pca.explained_variance_):\n",
    "    print(\"Rozptyl vysvětlený \" + str(i + 1) + \". hlavní komponentou: \",\"%.1f\" % explained_variance_ratio, '\\tPodíl z celku: ', \"%.2f\" % pca.explained_variance_ratio_[i])"
   ]
  },
  {
   "cell_type": "markdown",
   "metadata": {},
   "source": [
    "## 1. Použití PCA pro kompresi obrázků\n",
    "\n",
    "K přechodům tam a zpět mezi projekcí a původní reprezentací můžeme využít metody `transform` a `inverse_transform`."
   ]
  },
  {
   "cell_type": "code",
   "execution_count": null,
   "metadata": {},
   "outputs": [],
   "source": [
    "X_reduced = pca.transform(X_digits) # Transformuje data do projektovaného prostoru 10 hlavních komponent\n",
    "print('Rozměry transformovaných dat:', X_reduced.shape)\n",
    "print('Rozměry původních dat:', X_digits.shape)"
   ]
  },
  {
   "cell_type": "code",
   "execution_count": null,
   "metadata": {},
   "outputs": [],
   "source": [
    "X_recovered = pca.inverse_transform(X_reduced) # Přetransformujme data zpět do původního prostoru \n",
    "print('Rozměry obnovených dat:', X_recovered.shape)"
   ]
  },
  {
   "cell_type": "code",
   "execution_count": null,
   "metadata": {},
   "outputs": [],
   "source": [
    "images_recovered = X_recovered.reshape(X_recovered.shape[0],8,8) # Reshape a bit (to plot it)\n",
    "print_digits(images_recovered, y_digits, max_n=20)\n",
    "print(\"Reconstructed data\")"
   ]
  },
  {
   "cell_type": "code",
   "execution_count": null,
   "metadata": {},
   "outputs": [],
   "source": [
    "def plot_pca_scatter():\n",
    "    colors = ['black', 'blue', 'purple', 'yellow', 'white', 'red', 'lime', 'cyan', 'orange', 'gray']\n",
    "    for i in range(len(colors)):\n",
    "        px = X_pca[:, 0][y_digits == i]\n",
    "        py = X_pca[:, 1][y_digits == i]\n",
    "        plt.scatter(px, py, c=colors[i])\n",
    "        plt.legend(digits.target_names)\n",
    "        plt.xlabel('První hlavní komponenta')\n",
    "        plt.ylabel('Druhá hlavní komponenta')\n",
    "        \n",
    "n_components=2\n",
    "plot_pca_scatter()\n",
    "X_pca.shape, X_digits.shape"
   ]
  },
  {
   "cell_type": "code",
   "execution_count": null,
   "metadata": {},
   "outputs": [],
   "source": [
    "def print_pca_components(images, n_col, n_row):\n",
    "    plt.figure(figsize=(2. * n_col, 2.26 * n_row))\n",
    "    for i, comp in enumerate(images):\n",
    "        if i <= n_col * n_row:\n",
    "            plt.subplot(n_row, n_col, i + 1)\n",
    "            plt.imshow(comp.reshape((8, 8)), interpolation='nearest', cmap='bone')\n",
    "            plt.text(0, -1, str(i + 1) + '-komponenta')\n",
    "            plt.xticks(())\n",
    "            plt.yticks(())\n",
    "        else:\n",
    "            break\n",
    "        \n",
    "print_pca_components(pca.components_, 5, 2)"
   ]
  },
  {
   "cell_type": "code",
   "execution_count": null,
   "metadata": {},
   "outputs": [],
   "source": [
    "# Podívejme se na rozdíl mezi originálním a komprimovaným obrázkem pro první obrázek\n",
    "plt.show()\n",
    "plt.imshow((X_digits[0,:] - X_recovered[0,:]).reshape(8,-1), interpolation='nearest')\n",
    "plt.colorbar()"
   ]
  },
  {
   "cell_type": "markdown",
   "metadata": {},
   "source": [
    "#### Kvalitu té rekonstrukce můžeme měřit pomocí MSE (mean square error)\n",
    "$$\\text{MSE} = \\frac{1}{N}\\sum_{i=1}^N (x_i - \\tilde x_i)^2.$$"
   ]
  },
  {
   "cell_type": "code",
   "execution_count": null,
   "metadata": {},
   "outputs": [],
   "source": [
    "from sklearn.metrics import mean_squared_error\n",
    "print('MSE:', mean_squared_error(X_digits, X_recovered))"
   ]
  },
  {
   "cell_type": "code",
   "execution_count": null,
   "metadata": {},
   "outputs": [],
   "source": [
    "print('Podíl vysvětleného rozptylu prvními 10 komponentami:', \"%.3f\" % np.sum(pca.explained_variance_ratio_))"
   ]
  },
  {
   "cell_type": "markdown",
   "metadata": {},
   "source": [
    "* Takže cca 74% rozptylu v datech je vysvětleno prvními 10 komponentami. \n",
    "* Průměrná chyba rekonstrukce je cca $5$, což je stejné, jako kdyby se v průměrném případě lišila v 5ti pixelech hodnota stupně šedi o 1. \n",
    "\n",
    "**To není špatné!**"
   ]
  },
  {
   "cell_type": "markdown",
   "metadata": {},
   "source": [
    "### Úkol 1:\n",
    "\n",
    "* Jak závisí tato chyba rekonstrukce (měřená pomocí MSE) na počtu komponent?\n",
    "How does the reconstruction error depend on the number of components? \n",
    "* Jak je to pro jednotlivé třídy (číslice)? Je nějaká číslice obtížněji rekonstruovatelná?"
   ]
  },
  {
   "cell_type": "code",
   "execution_count": null,
   "metadata": {},
   "outputs": [],
   "source": [
    "### Your code here\n",
    "\n",
    "\n"
   ]
  },
  {
   "cell_type": "markdown",
   "metadata": {},
   "source": [
    "## 2. Využití redukce dimenzionality k vylepšení schopnosti predikce modelu\n",
    "\n",
    "Obvyklé využití PCA (případně SVD) spočívá v projekci dat do nižší dimenze a následném trénování modelu na těchto projektovaných datech. Přitom doufáme, že to povede (a často to tak je) k vylepšení kvality modelu.\n",
    "\n",
    "V našem případě budeme trénovat model na datech `X_reduced` s cílovou proměnnou v `y_digits`."
   ]
  },
  {
   "cell_type": "markdown",
   "metadata": {},
   "source": [
    "### Úkol 2: \n",
    "\n",
    "* Porovnejte schopnost predikce modelu logistické regrese natrénovaného na originálních datech oproti stejnému modelu natrénovanému na PCA redukovaných datech. \n",
    "* Jaký je vliv počtu použitých hlavních komponent? \n",
    "* Vykreslete závislost chyby modelu na počtu komponent."
   ]
  },
  {
   "cell_type": "code",
   "execution_count": null,
   "metadata": {},
   "outputs": [],
   "source": [
    "### Your code here\n",
    "\n"
   ]
  },
  {
   "cell_type": "markdown",
   "metadata": {},
   "source": [
    "### Úkol 3: \n",
    "\n",
    "* Zkusme použít ne-lineární metodu redukce dimenzionality - LLE. \n",
    "* Ověřte, zda v tomto případě dojde k vylepšení. \n",
    "\n",
    "Můžete využít `LLE` (známe z přednášky) pomocí následujícího kódu:"
   ]
  },
  {
   "cell_type": "code",
   "execution_count": null,
   "metadata": {},
   "outputs": [],
   "source": [
    "### Metoda LLE\n",
    "from sklearn.manifold import LocallyLinearEmbedding\n",
    "lle = LocallyLinearEmbedding(n_components=15, n_neighbors=5)\n",
    "Xlle = lle.fit_transform(X)\n",
    "\n",
    "\n",
    "### Your code here\n",
    "\n"
   ]
  },
  {
   "cell_type": "code",
   "execution_count": null,
   "metadata": {},
   "outputs": [],
   "source": []
  }
 ],
 "metadata": {
  "kernelspec": {
   "display_name": "Python 3",
   "language": "python",
   "name": "python3"
  },
  "language_info": {
   "codemirror_mode": {
    "name": "ipython",
    "version": 3
   },
   "file_extension": ".py",
   "mimetype": "text/x-python",
   "name": "python",
   "nbconvert_exporter": "python",
   "pygments_lexer": "ipython3",
   "version": "3.6.6"
  }
 },
 "nbformat": 4,
 "nbformat_minor": 2
}
