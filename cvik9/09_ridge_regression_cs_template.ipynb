{
 "cells": [
  {
   "cell_type": "markdown",
   "metadata": {},
   "source": [
    "# Hřebenová regrese, vztah vychýlení a rozptylu"
   ]
  },
  {
   "cell_type": "markdown",
   "metadata": {},
   "source": [
    "V tomto notebooku se budeme hřebenovou regresí a analýzou vztahu vychýlení a rozptylu"
   ]
  },
  {
   "cell_type": "code",
   "execution_count": 60,
   "metadata": {},
   "outputs": [],
   "source": [
    "import pandas as pd\n",
    "import numpy as np\n",
    "\n",
    "from sklearn.metrics import mean_squared_error\n",
    "\n",
    "import matplotlib.pyplot as plt\n",
    "import matplotlib\n",
    "%matplotlib inline\n",
    "\n",
    "np.set_printoptions(precision=5, suppress=True)  # suppress scientific float notation (so 0.000 is printed as 0.)"
   ]
  },
  {
   "cell_type": "markdown",
   "metadata": {},
   "source": [
    "## Načtení dat\n",
    "\n",
    "Využijeme opět data o cenách domů v oblasti Bostonu v USA, která máme uložená v souboru `data.csv`.\n",
    "\n",
    "Data jsou již vyčištěná. Proměnná, kterou chceme predikovat je `medv`."
   ]
  },
  {
   "cell_type": "code",
   "execution_count": 61,
   "metadata": {},
   "outputs": [
    {
     "name": "stdout",
     "output_type": "stream",
     "text": [
      "Shape (333, 15)\n"
     ]
    },
    {
     "data": {
      "text/html": [
       "<div>\n",
       "<style scoped>\n",
       "    .dataframe tbody tr th:only-of-type {\n",
       "        vertical-align: middle;\n",
       "    }\n",
       "\n",
       "    .dataframe tbody tr th {\n",
       "        vertical-align: top;\n",
       "    }\n",
       "\n",
       "    .dataframe thead th {\n",
       "        text-align: right;\n",
       "    }\n",
       "</style>\n",
       "<table border=\"1\" class=\"dataframe\">\n",
       "  <thead>\n",
       "    <tr style=\"text-align: right;\">\n",
       "      <th></th>\n",
       "      <th>ID</th>\n",
       "      <th>crim</th>\n",
       "      <th>zn</th>\n",
       "      <th>indus</th>\n",
       "      <th>chas</th>\n",
       "      <th>nox</th>\n",
       "      <th>rm</th>\n",
       "      <th>age</th>\n",
       "      <th>dis</th>\n",
       "      <th>rad</th>\n",
       "      <th>tax</th>\n",
       "      <th>ptratio</th>\n",
       "      <th>black</th>\n",
       "      <th>lstat</th>\n",
       "      <th>medv</th>\n",
       "    </tr>\n",
       "  </thead>\n",
       "  <tbody>\n",
       "    <tr>\n",
       "      <th>0</th>\n",
       "      <td>1.0</td>\n",
       "      <td>0.00632</td>\n",
       "      <td>18.0</td>\n",
       "      <td>2.31</td>\n",
       "      <td>0.0</td>\n",
       "      <td>5.38</td>\n",
       "      <td>65.75</td>\n",
       "      <td>65.2</td>\n",
       "      <td>4.0900</td>\n",
       "      <td>1.0</td>\n",
       "      <td>29.6</td>\n",
       "      <td>15.3</td>\n",
       "      <td>39.690</td>\n",
       "      <td>4.98</td>\n",
       "      <td>24.0</td>\n",
       "    </tr>\n",
       "    <tr>\n",
       "      <th>1</th>\n",
       "      <td>2.0</td>\n",
       "      <td>0.02731</td>\n",
       "      <td>0.0</td>\n",
       "      <td>7.07</td>\n",
       "      <td>0.0</td>\n",
       "      <td>4.69</td>\n",
       "      <td>64.21</td>\n",
       "      <td>78.9</td>\n",
       "      <td>4.9671</td>\n",
       "      <td>2.0</td>\n",
       "      <td>24.2</td>\n",
       "      <td>17.8</td>\n",
       "      <td>39.690</td>\n",
       "      <td>9.14</td>\n",
       "      <td>21.6</td>\n",
       "    </tr>\n",
       "    <tr>\n",
       "      <th>2</th>\n",
       "      <td>4.0</td>\n",
       "      <td>0.03237</td>\n",
       "      <td>0.0</td>\n",
       "      <td>2.18</td>\n",
       "      <td>0.0</td>\n",
       "      <td>4.58</td>\n",
       "      <td>69.98</td>\n",
       "      <td>45.8</td>\n",
       "      <td>6.0622</td>\n",
       "      <td>3.0</td>\n",
       "      <td>22.2</td>\n",
       "      <td>18.7</td>\n",
       "      <td>39.463</td>\n",
       "      <td>2.94</td>\n",
       "      <td>33.4</td>\n",
       "    </tr>\n",
       "    <tr>\n",
       "      <th>3</th>\n",
       "      <td>5.0</td>\n",
       "      <td>0.06905</td>\n",
       "      <td>0.0</td>\n",
       "      <td>2.18</td>\n",
       "      <td>0.0</td>\n",
       "      <td>4.58</td>\n",
       "      <td>71.47</td>\n",
       "      <td>54.2</td>\n",
       "      <td>6.0622</td>\n",
       "      <td>3.0</td>\n",
       "      <td>22.2</td>\n",
       "      <td>18.7</td>\n",
       "      <td>39.690</td>\n",
       "      <td>5.33</td>\n",
       "      <td>36.2</td>\n",
       "    </tr>\n",
       "    <tr>\n",
       "      <th>4</th>\n",
       "      <td>7.0</td>\n",
       "      <td>0.08829</td>\n",
       "      <td>12.5</td>\n",
       "      <td>7.87</td>\n",
       "      <td>0.0</td>\n",
       "      <td>5.24</td>\n",
       "      <td>60.12</td>\n",
       "      <td>66.6</td>\n",
       "      <td>5.5605</td>\n",
       "      <td>5.0</td>\n",
       "      <td>31.1</td>\n",
       "      <td>15.2</td>\n",
       "      <td>39.560</td>\n",
       "      <td>12.43</td>\n",
       "      <td>22.9</td>\n",
       "    </tr>\n",
       "  </tbody>\n",
       "</table>\n",
       "</div>"
      ],
      "text/plain": [
       "    ID     crim    zn  indus  chas   nox     rm   age     dis  rad   tax  \\\n",
       "0  1.0  0.00632  18.0   2.31   0.0  5.38  65.75  65.2  4.0900  1.0  29.6   \n",
       "1  2.0  0.02731   0.0   7.07   0.0  4.69  64.21  78.9  4.9671  2.0  24.2   \n",
       "2  4.0  0.03237   0.0   2.18   0.0  4.58  69.98  45.8  6.0622  3.0  22.2   \n",
       "3  5.0  0.06905   0.0   2.18   0.0  4.58  71.47  54.2  6.0622  3.0  22.2   \n",
       "4  7.0  0.08829  12.5   7.87   0.0  5.24  60.12  66.6  5.5605  5.0  31.1   \n",
       "\n",
       "   ptratio   black  lstat  medv  \n",
       "0     15.3  39.690   4.98  24.0  \n",
       "1     17.8  39.690   9.14  21.6  \n",
       "2     18.7  39.463   2.94  33.4  \n",
       "3     18.7  39.690   5.33  36.2  \n",
       "4     15.2  39.560  12.43  22.9  "
      ]
     },
     "execution_count": 61,
     "metadata": {},
     "output_type": "execute_result"
    }
   ],
   "source": [
    "df = pd.read_csv('data.csv').astype('float64')\n",
    "print('Shape', df.shape)\n",
    "df.head()"
   ]
  },
  {
   "cell_type": "markdown",
   "metadata": {},
   "source": [
    "### Příprava trénovací a testovací množiny\n",
    "\n",
    "Využijeme [train_test_split](https://scikit-learn.org/stable/modules/generated/sklearn.model_selection.train_test_split.html) ze `scikit-learn`."
   ]
  },
  {
   "cell_type": "code",
   "execution_count": 62,
   "metadata": {},
   "outputs": [
    {
     "name": "stdout",
     "output_type": "stream",
     "text": [
      "Train X shape (249, 13)\n",
      "Test X shape (84, 13)\n"
     ]
    }
   ],
   "source": [
    "from sklearn.model_selection import train_test_split\n",
    "X, X_test, Y, Y_test = train_test_split(df.drop(columns = ['ID', 'medv']), df['medv'], test_size=0.25, random_state=42)\n",
    "print('Train X shape', X.shape)\n",
    "print('Test X shape', X_test.shape)"
   ]
  },
  {
   "cell_type": "markdown",
   "metadata": {},
   "source": [
    "#### Vytvoříme model lineární regrese pro porovnání"
   ]
  },
  {
   "cell_type": "code",
   "execution_count": 4,
   "metadata": {},
   "outputs": [
    {
     "name": "stdout",
     "output_type": "stream",
     "text": [
      "[-0.07709  0.05966 -0.01475  0.41967 -1.68647  0.3559  -0.01256 -1.81433\n",
      "  0.40758 -0.15644 -0.77078  0.07523 -0.58124]\n",
      "RMSE: 4.7995324889473245\n"
     ]
    },
    {
     "data": {
      "image/png": "[encoded data removed]",
      "text/plain": [
       "<Figure size 432x288 with 1 Axes>"
      ]
     },
     "metadata": {
      "needs_background": "light"
     },
     "output_type": "display_data"
    }
   ],
   "source": [
    "from sklearn.linear_model import LinearRegression\n",
    "clf = LinearRegression()\n",
    "clf.fit(X,Y)\n",
    "\n",
    "print(clf.coef_)\n",
    "\n",
    "Yth = clf.predict(X_test)\n",
    "plt.scatter(Yth, Y_test)\n",
    "\n",
    "print('RMSE:', np.sqrt(mean_squared_error(Yth, np.array(Y_test))))"
   ]
  },
  {
   "cell_type": "markdown",
   "metadata": {},
   "source": [
    "## Task 1 - použijte model hřebenové regrese\n",
    "\n",
    "* Zopakujte postup z předchozího bodu s využitím třídy [Ridge](https://scikit-learn.org/stable/modules/generated/sklearn.linear_model.Ridge.html) ze `scikit-learn`.\n",
    "* Nejprve zkuste různé hodnoty $\\lambda$ (zde parametr `alpha`).\n",
    "* Poté zkuste automatický výběr hodnoty $\\lambda$ s využitím `scipy.optimize.minimize_scalar` a `sklearn.model_selection.cross_val_score`\n",
    "* Výsledné RMSE pro testovací data porovnejte s výstupem lineární regrese."
   ]
  },
  {
   "cell_type": "code",
   "execution_count": 21,
   "metadata": {},
   "outputs": [
    {
     "data": {
      "text/plain": [
       "<matplotlib.collections.PathCollection at 0x7f3a9854d710>"
      ]
     },
     "execution_count": 21,
     "metadata": {},
     "output_type": "execute_result"
    },
    {
     "data": {
      "image/png": "[encoded data removed]",
      "text/plain": [
       "<Figure size 432x288 with 1 Axes>"
      ]
     },
     "metadata": {
      "needs_background": "light"
     },
     "output_type": "display_data"
    }
   ],
   "source": [
    "from sklearn.linear_model import Ridge\n",
    "\n",
    "alpha_error = []\n",
    "\n",
    "# xones = np.ones(X,dtype=\"int\")\n",
    "\n",
    "# X = np.concatenate((X1,X2), axis=0)\n",
    "\n",
    "for alpha in np.arange(0.0, 10.0, 0.1):\n",
    "    clf = Ridge(alpha=alpha)\n",
    "    clf.fit(X,Y)\n",
    "    \n",
    "    Yth = clf.predict(X_test)\n",
    "    alpha_error.append( np.sqrt(mean_squared_error(Yth, np.array(Y_test))) )\n",
    "plt.scatter( range(0,100,1), alpha_error)"
   ]
  },
  {
   "cell_type": "code",
   "execution_count": 53,
   "metadata": {},
   "outputs": [
    {
     "name": "stderr",
     "output_type": "stream",
     "text": [
      "/home/bek/.local/lib/python3.6/site-packages/ipykernel_launcher.py:14: OptimizeWarning: Unknown solver options: maxIter\n",
      "  \n"
     ]
    },
    {
     "name": "stdout",
     "output_type": "stream",
     "text": [
      "     fun: 5.1273230045609\n",
      " message: 'Solution found.'\n",
      "    nfev: 10\n",
      "  status: 0\n",
      " success: True\n",
      "       x: 6.265516549148581\n",
      "4.794206693483695\n"
     ]
    }
   ],
   "source": [
    "from sklearn.linear_model import Ridge\n",
    "from scipy.optimize import minimize_scalar\n",
    "from sklearn.model_selection import cross_val_score\n",
    "\n",
    "def f(x):\n",
    "    clf = Ridge(alpha=x)\n",
    "#     clf.fit(X,Y)\n",
    "    \n",
    "#     Yth = clf.predict(X_test)\n",
    "    return np.sqrt(-np.mean(cross_val_score(clf, X,Y , cv=5, \n",
    "            scoring='neg_mean_squared_error')))\n",
    "#     return np.sqrt(-mean_squared_error(Yth, np.array(Y_test)))\n",
    "\n",
    "res = minimize_scalar(f,  options={'maxIter':30}, method='bounded', bounds=(0,20))\n",
    "print(res)\n",
    "\n",
    "clf = Ridge(alpha=res.x)\n",
    "clf.fit(X,Y)\n",
    "Yth = clf.predict(X_test)\n",
    "print ( np.sqrt(mean_squared_error(Yth, np.array(Y_test))) )"
   ]
  },
  {
   "cell_type": "code",
   "execution_count": 35,
   "metadata": {},
   "outputs": [
    {
     "data": {
      "image/png": "[encoded data removed]",
      "text/plain": [
       "<Figure size 432x288 with 1 Axes>"
      ]
     },
     "metadata": {
      "needs_background": "light"
     },
     "output_type": "display_data"
    }
   ],
   "source": [
    "from sklearn.linear_model import Ridge\n",
    "from scipy.optimize import minimize_scalar\n",
    "from sklearn.model_selection import cross_val_score\n",
    "import math\n",
    "from sklearn.linear_model import Ridge\n",
    "\n",
    "alpha_error = []\n",
    "\n",
    "def get_ridge_clf(X, Y):\n",
    "    def ridgemodel(alpha):\n",
    "        clf = Ridge(alpha=alpha)\n",
    "        return np.sqrt(-np.mean( \n",
    "            cross_val_score(clf, X,Y , cv=5, scoring='neg_mean_squared_error')) )\n",
    "    \n",
    "    alphas = range(20)\n",
    "    alphas_res = [ridgemodel(alpha) for alpha in alphas]\n",
    "    plt.plot(alphas, alphas_res)\n",
    "    plt.show()\n",
    "get_ridge_clf(X,Y)"
   ]
  },
  {
   "cell_type": "markdown",
   "metadata": {},
   "source": [
    "## Task 2 - zopakujte předchozí úlohu pro standardizované příznaky\n",
    "* Ke standardizaci využijte `sklearn.preprocessing.StandardScaler`.\n",
    "* Výsledné RMSE pro testovací data porovnejte s výstupem lineární regrese a předchozí hřebenové regrese."
   ]
  },
  {
   "cell_type": "code",
   "execution_count": 63,
   "metadata": {},
   "outputs": [
    {
     "name": "stderr",
     "output_type": "stream",
     "text": [
      "/home/bek/.local/lib/python3.6/site-packages/ipykernel_launcher.py:14: OptimizeWarning: Unknown solver options: maxIter\n",
      "  \n"
     ]
    },
    {
     "name": "stdout",
     "output_type": "stream",
     "text": [
      "     fun: 5.127653589355569\n",
      " message: 'Solution found.'\n",
      "    nfev: 13\n",
      "  status: 0\n",
      " success: True\n",
      "       x: 1.4164808429939786\n",
      "4.774112973785064\n"
     ]
    }
   ],
   "source": [
    "# Your code here\n",
    "\n",
    "scaler = StandardScaler()\n",
    "scaler.fit(X)\n",
    "\n",
    "XX_test= scaler.transform(X_test)\n",
    "XX = scaler.transform(X)\n",
    "\n",
    "def f(x):\n",
    "    clf = Ridge(alpha=x)\n",
    "    return np.sqrt(-np.mean(cross_val_score(clf, XX,Y , cv=5, \n",
    "            scoring='neg_mean_squared_error')))\n",
    "\n",
    "res = minimize_scalar(f,  options={'maxIter':30}, method='bounded', bounds=(0,20))\n",
    "print(res)\n",
    "\n",
    "clf = Ridge(alpha=res.x)\n",
    "clf.fit(XX,Y)\n",
    "Yth = clf.predict(XX_test)\n",
    "print ( np.sqrt(mean_squared_error(Yth, np.array(Y_test))) )\n"
   ]
  },
  {
   "cell_type": "markdown",
   "metadata": {},
   "source": [
    "## Task 3 - na umělých datech numericky prozkoumejte vztah vychýlení a rozptylu\n",
    "Nejprve si připravíme funkce na náhodný výběr z modelu"
   ]
  },
  {
   "cell_type": "code",
   "execution_count": 7,
   "metadata": {},
   "outputs": [
    {
     "name": "stdout",
     "output_type": "stream",
     "text": [
      "X shape: (50, 4)\n"
     ]
    },
    {
     "data": {
      "text/plain": [
       "[<matplotlib.lines.Line2D at 0x7f3a9e81a358>]"
      ]
     },
     "execution_count": 7,
     "metadata": {},
     "output_type": "execute_result"
    },
    {
     "data": {
      "image/png": "[encoded data removed]",
      "text/plain": [
       "<Figure size 432x288 with 1 Axes>"
      ]
     },
     "metadata": {
      "needs_background": "light"
     },
     "output_type": "display_data"
    }
   ],
   "source": [
    "np.random.seed(5)  # zajistí replikovatelnost\n",
    "x = np.random.randn(50) + 1\n",
    "x_plot = np.linspace(-1,4,300)\n",
    "\n",
    "def getX(x, max_degree = 5):\n",
    "    X = x.reshape(-1,1)\n",
    "    for i in range(2, max_degree):\n",
    "        X = np.concatenate((X, (x**i).reshape(-1,1)), axis = 1)\n",
    "    return X\n",
    "\n",
    "X = getX(x)\n",
    "X_plot = getX(x_plot)\n",
    "print('X shape:', X.shape)\n",
    "\n",
    "# funkce, která vrací náhodný výběr z těch dat\n",
    "def getY(X, random = True):\n",
    "    # vytvoření skutečného w\n",
    "    w = np.concatenate((np.array([1,-1,2.5,0,-0.11,0]), np.zeros(1000)),)\n",
    "    w = w[0:(X.shape[1]+1)]\n",
    "    # přidání interceptu\n",
    "    Xx = np.concatenate((np.ones(X.shape[0]).reshape(-1,1),X), axis = 1)\n",
    "    # reset random seedu aby to bylo náhodné\n",
    "    np.random.seed()\n",
    "    # nagenerujeme z modelu trénovací množiny\n",
    "    EY = Xx.dot(w)\n",
    "    if random:\n",
    "        return EY + np.random.randn(X.shape[0])*1\n",
    "    else:\n",
    "        return EY\n",
    "\n",
    "# vezmeme si jeden trénovací dataset\n",
    "Y = getY(X)\n",
    "# zobrazíme ho\n",
    "plt.scatter(x,Y)\n",
    "\n",
    "# vyrobíme si skutečné střední hodnoty\n",
    "EY_plot = getY(X_plot, random = False)\n",
    "plt.plot(x_plot,EY_plot, 'r')"
   ]
  },
  {
   "cell_type": "markdown",
   "metadata": {},
   "source": [
    "#### Proveďte predikci pomocí hřebenové regrese\n",
    "Zafixujte $\\lambda$ (alpha) a 100x proveďte:\n",
    "* Nagenerování trénovacích hodnot $Y$.\n",
    "* Predikci pomocí hřebenové regrese pro testovací hodnoty `X_plot`.\n",
    "\n",
    "Výslednou predikci, tj. křivku dvojic `(x_plot, Yhat_plot)`, vykreslete do jednoho grafu spolu se výběrovým průměrem přes všechny predikce.\n",
    "\n",
    "Diskutujte jak se výsledky mění v závislosti se zvyšujícím $\\lambda$."
   ]
  },
  {
   "cell_type": "code",
   "execution_count": 8,
   "metadata": {},
   "outputs": [
    {
     "ename": "NameError",
     "evalue": "name 'Ridge' is not defined",
     "output_type": "error",
     "traceback": [
      "\u001b[0;31m---------------------------------------------------------------------------\u001b[0m",
      "\u001b[0;31mNameError\u001b[0m                                 Traceback (most recent call last)",
      "\u001b[0;32m<ipython-input-8-8081e38e9bb0>\u001b[0m in \u001b[0;36m<module>\u001b[0;34m\u001b[0m\n\u001b[1;32m      5\u001b[0m \u001b[0;34m\u001b[0m\u001b[0m\n\u001b[1;32m      6\u001b[0m \u001b[0;31m# pipe = make_pipeline(StandardScaler(), Ridge(alpha = 0))\u001b[0m\u001b[0;34m\u001b[0m\u001b[0;34m\u001b[0m\u001b[0m\n\u001b[0;32m----> 7\u001b[0;31m \u001b[0mpipe\u001b[0m \u001b[0;34m=\u001b[0m \u001b[0mmake_pipeline\u001b[0m\u001b[0;34m(\u001b[0m\u001b[0mRidge\u001b[0m\u001b[0;34m(\u001b[0m\u001b[0malpha\u001b[0m \u001b[0;34m=\u001b[0m \u001b[0;36m0\u001b[0m\u001b[0;34m)\u001b[0m\u001b[0;34m)\u001b[0m\u001b[0;34m\u001b[0m\u001b[0m\n\u001b[0m\u001b[1;32m      8\u001b[0m \u001b[0;34m\u001b[0m\u001b[0m\n\u001b[1;32m      9\u001b[0m \u001b[0;34m\u001b[0m\u001b[0m\n",
      "\u001b[0;31mNameError\u001b[0m: name 'Ridge' is not defined"
     ]
    }
   ],
   "source": [
    "# můžete použít standardizaci\n",
    "from sklearn.preprocessing import StandardScaler\n",
    "# v takovém případě zkuste využít pipelines\n",
    "from sklearn.pipeline import make_pipeline\n",
    "\n",
    "# pipe = make_pipeline(StandardScaler(), Ridge(alpha = 0)) \n",
    "pipe = make_pipeline(Ridge(alpha = 0))\n",
    "\n",
    "\n",
    "# your code here\n"
   ]
  },
  {
   "cell_type": "code",
   "execution_count": null,
   "metadata": {},
   "outputs": [],
   "source": []
  }
 ],
 "metadata": {
  "kernelspec": {
   "display_name": "Python 3",
   "language": "python",
   "name": "python3"
  },
  "language_info": {
   "codemirror_mode": {
    "name": "ipython",
    "version": 3
   },
   "file_extension": ".py",
   "mimetype": "text/x-python",
   "name": "python",
   "nbconvert_exporter": "python",
   "pygments_lexer": "ipython3",
   "version": "3.6.7"
  }
 },
 "nbformat": 4,
 "nbformat_minor": 2
}
