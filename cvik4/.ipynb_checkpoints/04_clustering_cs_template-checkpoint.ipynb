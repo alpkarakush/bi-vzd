{
 "cells": [
  {
   "cell_type": "markdown",
   "metadata": {},
   "source": [
    "# Shlukování"
   ]
  },
  {
   "cell_type": "markdown",
   "metadata": {},
   "source": [
    " V tomto notebooku si budeme hrát se shlukováním.\n",
    " \n",
    " * Nejprve si na umělých datech vyzkoušíme hierarchické shlukování a algoritmus k-means, abychom si obě metody osahali.\n",
    " * Potom provedeme hierarchické shlukování na datasetu Iris (3 druhy kosatců) a podíváme se jak nalezené shluky odpovídají reálným druhům.\n",
    " * Nakonec se podíváme na vektorovou kvantizaci obrázků jakožto zajímavou aplikaci algoritmu k-means."
   ]
  },
  {
   "cell_type": "code",
   "execution_count": null,
   "metadata": {},
   "outputs": [],
   "source": [
    "import pandas as pd\n",
    "import numpy as np\n",
    "\n",
    "import matplotlib.pyplot as plt\n",
    "import matplotlib\n",
    "%matplotlib inline\n",
    "\n",
    "np.set_printoptions(precision=5, suppress=True)  # potlačení výpisu floatů (tak aby 0.000 bylo zobrazeno jako 0.)"
   ]
  },
  {
   "cell_type": "markdown",
   "metadata": {},
   "source": [
    "## Umělá data - hierarchické shlukování & algoritmus k-means"
   ]
  },
  {
   "cell_type": "markdown",
   "metadata": {},
   "source": [
    "### Generování umělých dat\n",
    "\n",
    "Umělá data vygenerujeme jako náhodné výběry ze tří růzých vícerozměrných normálních rozdělení, které následně spojíme.\n",
    "\n",
    "Parametry vícerozměrného normálního rozdělení jsou (stručně):\n",
    "* Vektor středních hodnot - odpovídá středu výsledného shluku.\n",
    "* Varianční matice - odpovídá tvaru (kruh nebo nějakým způsobem natočená elipsa) a velikosti vygenerovaného shluku."
   ]
  },
  {
   "cell_type": "code",
   "execution_count": null,
   "metadata": {},
   "outputs": [],
   "source": [
    "# generování tří shluků: a se 60 body, b se 40 body, c s 20:\n",
    "np.random.seed(50)  # zajistí replikovatelnost\n",
    "a = np.random.multivariate_normal([7, 7], [[2, 0.5], [0.5, 2]], size=[60,])\n",
    "b = np.random.multivariate_normal([0, 15], [[2, 0], [0, 2]], size=[40,])\n",
    "c = np.random.multivariate_normal([15, 0], [[3, 1], [1, 4]], size=[20,])\n",
    "\n",
    "# spojení shluků do X\n",
    "X = np.concatenate((a, b, c),)\n",
    "\n",
    "# zobrazení velikosti výsledných dat\n",
    "print(X.shape)\n",
    "\n",
    "# zobrazení výsledných dat\n",
    "plt.scatter(X[:,0], X[:,1])\n",
    "plt.axis('equal')\n",
    "plt.show()"
   ]
  },
  {
   "cell_type": "markdown",
   "metadata": {},
   "source": [
    "### Aglomerativní hierarchické shlukování\n",
    "\n",
    "Použijeme knihovnu `scipy` a konkrétně sekci hierarchického shlukování. [(dokumentace zde)](https://docs.scipy.org/doc/scipy/reference/cluster.hierarchy.html).\n",
    "\n",
    "Tato část notebooku je inspirována [tímto příspěvkem na blogu](https://joernhees.de/blog/2015/08/26/scipy-hierarchical-clustering-and-dendrogram-tutorial/).\n",
    "\n",
    "#### Nejprve vytvořme dendrogram\n",
    "Použijeme funkci `linkage` [(dokumentace zde)](https://docs.scipy.org/doc/scipy/reference/generated/scipy.cluster.hierarchy.linkage.html#scipy.cluster.hierarchy.linkage).\n",
    "* Důležitým argumentem je volba metody,kterou se měří vzdálenosti shluků.\n",
    "* Nyní použijeme metodu nejbližšího souseda (single linkage). Později si můžete hrát i s těmi ostatními - complete linkage / average linkage / wardova metoda."
   ]
  },
  {
   "cell_type": "code",
   "execution_count": null,
   "metadata": {},
   "outputs": [],
   "source": [
    "from scipy.cluster.hierarchy import dendrogram, linkage\n",
    "\n",
    "# spočteme tzv. matici propojení\n",
    "Z = linkage(X, 'single')\n",
    "\n",
    "# rozměry výstupu\n",
    "print(Z.shape)"
   ]
  },
  {
   "cell_type": "markdown",
   "metadata": {},
   "source": [
    "Výstupem je matice propojení (linkage matrix),ve které každý řádek odpovídá jednomu spojení shluků do nového shluku. \n",
    "Sloupce jsou:\n",
    "* index prvního spojovaného shluku\n",
    "* index druhého spojovaného shluku\n",
    "* vzdálenost mezi spojovanými shluky\n",
    "* počet bodů, které jsou v nově vytvořeném shluku"
   ]
  },
  {
   "cell_type": "code",
   "execution_count": null,
   "metadata": {},
   "outputs": [],
   "source": [
    "# Podívejme se na prvních 5 řádků Z\n",
    "print(Z[:5,:])\n",
    "\n",
    "# obvzláště si všimněte třetího řádku, kde má jeden ze spojovaných shluků index 120, \n",
    "# což je ve skutečnosti první shluk vytvořený spojením."
   ]
  },
  {
   "cell_type": "markdown",
   "metadata": {},
   "source": [
    "#### Vizualizace dendrogramu\n",
    "Použijeme funkci `dendrogram` [(dokumentace zde)](https://docs.scipy.org/doc/scipy/reference/generated/scipy.cluster.hierarchy.dendrogram.html#scipy.cluster.hierarchy.dendrogram)."
   ]
  },
  {
   "cell_type": "code",
   "execution_count": null,
   "metadata": {},
   "outputs": [],
   "source": [
    "# výpočet plného dendrogramu\n",
    "plt.figure(figsize=(25, 10))\n",
    "plt.title('Dendrogram hierarchického shlukování')\n",
    "plt.xlabel('index bodu')\n",
    "plt.ylabel('vzdálenost')\n",
    "dendrogram(\n",
    "    Z,\n",
    "    leaf_rotation=90.,  # otočení popisů x-ové osy\n",
    "    leaf_font_size=8.,  # velikost fontu popisů x-ové osy\n",
    ")\n",
    "plt.show()"
   ]
  },
  {
   "cell_type": "markdown",
   "metadata": {},
   "source": [
    "Všimněte si, že:\n",
    "* horizontální čáry odpovídají spojením shluků\n",
    "* vertikální čáry nám říkají, které shluky se do nového shluku spojují\n",
    "* výšky (tj. y-ové pozice) horizontálních čar odpovídají vzdálenosti mezi spojovanými shluky"
   ]
  },
  {
   "cell_type": "code",
   "execution_count": null,
   "metadata": {},
   "outputs": [],
   "source": [
    "# Můžeme také zobrazit pouze horní část dendrogramu, kde dochází ke spojování posledních velkých shluků\n",
    "plt.title('Dendrogram hierarchického shlukování (oříznutý)')\n",
    "plt.xlabel('index bodu nebo (velikost shluku)')\n",
    "plt.ylabel('vzdálenost')\n",
    "dendrogram(\n",
    "    Z,\n",
    "    truncate_mode='lastp',  # Zobraz jenom posledních p spojených shluků\n",
    "    p=10,  # Nastavení toho p\n",
    "    leaf_rotation=90.,\n",
    "    leaf_font_size=12.,\n",
    "    show_contracted=True,  # pomáhá vizuální představě o spojování vedoucí k těm uříznutým shlukům \n",
    "    # (čárky na spodních vertikálních čárách).\n",
    ")\n",
    "plt.show()"
   ]
  },
  {
   "cell_type": "markdown",
   "metadata": {},
   "source": [
    "#### Fancy verze vykreslení dendrogramu\n",
    "S využitím: [annotating the distances inside the dendrogram](https://stackoverflow.com/questions/11917779/how-to-plot-and-annotate-hierarchical-clustering-dendrograms-in-scipy-matplotlib/12311618#12311618)"
   ]
  },
  {
   "cell_type": "code",
   "execution_count": null,
   "metadata": {},
   "outputs": [],
   "source": [
    "def fancy_dendrogram(*args, **kwargs):\n",
    "    max_d = kwargs.pop('max_d', None)\n",
    "    if max_d and 'color_threshold' not in kwargs:\n",
    "        kwargs['color_threshold'] = max_d\n",
    "    annotate_above = kwargs.pop('annotate_above', 0)\n",
    "\n",
    "    ddata = dendrogram(*args, **kwargs)\n",
    "\n",
    "    if not kwargs.get('no_plot', False):\n",
    "        plt.title('Dendrogram hierarchického shlukování (oříznutý)')\n",
    "        plt.xlabel('index bodu nebo (velikost shluku)')\n",
    "        plt.ylabel('vzdálenost')\n",
    "        for i, d, c in zip(ddata['icoord'], ddata['dcoord'], ddata['color_list']):\n",
    "            x = 0.5 * sum(i[1:3])\n",
    "            y = d[1]\n",
    "            if y > annotate_above:\n",
    "                plt.plot(x, y, 'o', c=c)\n",
    "                plt.annotate(\"%.3g\" % y, (x, y), xytext=(0, -5),\n",
    "                             textcoords='offset points',\n",
    "                             va='top', ha='center')\n",
    "        if max_d:\n",
    "            plt.axhline(y=max_d, c='k')\n",
    "    return ddata"
   ]
  },
  {
   "cell_type": "code",
   "execution_count": null,
   "metadata": {},
   "outputs": [],
   "source": [
    "fancy_dendrogram(\n",
    "    Z,\n",
    "    truncate_mode='lastp',\n",
    "    p=12,\n",
    "    leaf_rotation=90.,\n",
    "    leaf_font_size=12.,\n",
    "    show_contracted=True,\n",
    "    annotate_above=1.9,  # výhodné u malých obrázků, aby se to nepřekrývalo\n",
    ")\n",
    "plt.show()"
   ]
  },
  {
   "cell_type": "markdown",
   "metadata": {},
   "source": [
    "## Extrakce shlukování z dendrogramu\n",
    "K tomu využijeme funkci `fcluster` [(dokumentace zde)](https://docs.scipy.org/doc/scipy/reference/generated/scipy.cluster.hierarchy.fcluster.html#scipy.cluster.hierarchy.fcluster)."
   ]
  },
  {
   "cell_type": "markdown",
   "metadata": {},
   "source": [
    "#### Pokud známe výšku řezu\n",
    "t.j. hranici pro vzdálenost shluků nad kterou už nebudeme spojovat."
   ]
  },
  {
   "cell_type": "code",
   "execution_count": null,
   "metadata": {},
   "outputs": [],
   "source": [
    "from scipy.cluster.hierarchy import fcluster\n",
    "max_d = 5\n",
    "clusters = fcluster(Z, max_d, criterion='distance')\n",
    "# výpis shlukování\n",
    "print(clusters)\n",
    "\n",
    "# Vizualizace\n",
    "plt.scatter(X[:,0], X[:,1], c=clusters, cmap='brg')  # plot points with cluster dependent colors\n",
    "plt.show()"
   ]
  },
  {
   "cell_type": "code",
   "execution_count": null,
   "metadata": {},
   "outputs": [],
   "source": [
    "# Vizualizace řezu v dendrogram\n",
    "fancy_dendrogram(\n",
    "    Z,\n",
    "    truncate_mode='lastp',\n",
    "    p=12,\n",
    "    leaf_rotation=90.,\n",
    "    leaf_font_size=12.,\n",
    "    show_contracted=True,\n",
    "    annotate_above=1.9,\n",
    "    max_d = max_d,\n",
    ")\n",
    "plt.show()"
   ]
  },
  {
   "cell_type": "markdown",
   "metadata": {},
   "source": [
    "#### Jestliže známe požadovaný počet shluků $k$"
   ]
  },
  {
   "cell_type": "code",
   "execution_count": null,
   "metadata": {},
   "outputs": [],
   "source": [
    "k = 3\n",
    "clusters = fcluster(Z, k, criterion='maxclust')\n",
    "# výpis shlukování\n",
    "print(clusters)\n",
    "\n",
    "# Obrázek\n",
    "plt.scatter(X[:,0], X[:,1], c=clusters, cmap='brg')  # plot points with cluster dependent colors\n",
    "plt.show()"
   ]
  },
  {
   "cell_type": "markdown",
   "metadata": {},
   "source": [
    "### Algoritmus $k$-means \n",
    "Použijeme sekci `clustering` z knihovny `sklearn` [(dokumentace zde)](http://scikit-learn.org/stable/modules/clustering.html#k-means).\n",
    "\n",
    "Konkrétně použijeme funkci `Kmeans` [(dokumentace zde)](http://scikit-learn.org/stable/modules/generated/sklearn.cluster.KMeans.html#sklearn.cluster.KMeans)."
   ]
  },
  {
   "cell_type": "code",
   "execution_count": null,
   "metadata": {},
   "outputs": [],
   "source": [
    "from sklearn.cluster import KMeans\n",
    "\n",
    "# Nejdřív zkusme 2 shuky\n",
    "k = 2\n",
    "kmeans = KMeans(n_clusters = k, random_state = 1).fit(X)\n",
    "\n",
    "# výsledné shluky\n",
    "print(kmeans.labels_)\n",
    "# a jejich středy\n",
    "print(kmeans.cluster_centers_)\n",
    "\n",
    "# Vizualizace\n",
    "plt.scatter(X[:,0], X[:,1], c=kmeans.labels_, cmap='brg', alpha=0.4)  # plot points with cluster dependent colors\n",
    "plt.scatter(kmeans.cluster_centers_[:,0], kmeans.cluster_centers_[:,1], c = 'black', s=100)\n",
    "plt.show()"
   ]
  },
  {
   "cell_type": "code",
   "execution_count": null,
   "metadata": {},
   "outputs": [],
   "source": [
    "# To stejné pro 3shluky\n",
    "k = 3\n",
    "kmeans = KMeans(n_clusters = k, random_state = 1).fit(X)\n",
    "\n",
    "# Vizualizace\n",
    "plt.scatter(X[:,0], X[:,1], c=kmeans.labels_, cmap='brg', alpha=0.4)  # plot points with cluster dependent colors\n",
    "plt.scatter(kmeans.cluster_centers_[:,0], kmeans.cluster_centers_[:,1], c = 'black', s=100)\n",
    "plt.show()"
   ]
  },
  {
   "cell_type": "markdown",
   "metadata": {},
   "source": [
    "V defaultním nastavení probíhá inicializace středů \"chytrým\" způsobem, `init = 'k-means++'` [David, Vassilvitskii (2007)](http://ilpubs.stanford.edu:8090/778/1/2006-13.pdf), a běh algoritmu se opakuje 10 krát, `n_init = 10`.\n",
    "\n",
    "Finálním výstupem je pak výstup nějlepšího běhu (nejmenší hodnota účelové funkce výsledku).\n",
    "\n",
    "Kromě této \"chytré\" inicializace je možné použít klasickou náhodnou inicializaci (náhodný výběr z dat) nebo dokonce určit počáteční středy manuálně."
   ]
  },
  {
   "cell_type": "code",
   "execution_count": null,
   "metadata": {},
   "outputs": [],
   "source": [
    "k = 3\n",
    "# manuální inicializace\n",
    "initial_centers = np.array([[0,10],[10,10],[10,0]])\n",
    "\n",
    "# shlukování\n",
    "kmeans = KMeans(n_clusters = k, random_state = 1, init = initial_centers, n_init = 1).fit(X)\n",
    "\n",
    "# Vizualizace\n",
    "plt.scatter(X[:,0], X[:,1], c=kmeans.labels_, cmap='brg', alpha=0.4)  # plot points with cluster dependent colors\n",
    "plt.scatter(initial_centers[:,0], initial_centers[:,1], c = 'black', s=50, alpha = 0.9, marker = 'x') # initial centers\n",
    "plt.scatter(kmeans.cluster_centers_[:,0], kmeans.cluster_centers_[:,1], c = 'black', s=100) # final centers\n",
    "plt.legend(['Data', 'Počáteční středy', 'Výsledné středy'])\n",
    "plt.show()"
   ]
  },
  {
   "cell_type": "markdown",
   "metadata": {},
   "source": [
    "### Algoritmus $k$-means můžeme z důvodu \"osahání\" jednoduše implementovat ručně"
   ]
  },
  {
   "cell_type": "code",
   "execution_count": null,
   "metadata": {},
   "outputs": [],
   "source": [
    "from sklearn.metrics import pairwise_distances_argmin\n",
    "centers = initial_centers\n",
    "for i in range(3):\n",
    "    y_pred = pairwise_distances_argmin(X, centers)\n",
    "    new_centers = np.array([X[y_pred == i].mean(0) for i in range(len(centers))])\n",
    "\n",
    "    # Obrázek\n",
    "    plt.scatter(X[:,0], X[:,1], c=y_pred, cmap='brg', alpha=0.4)  # plot points with cluster dependent colors\n",
    "    plt.scatter(centers[:,0], centers[:,1], c = 'black', s=50, alpha = 0.9, marker = 'x') # old centers\n",
    "    plt.scatter(new_centers[:,0], new_centers[:,1], c = 'black', s=100) # new centers\n",
    "    plt.title('Manuální $k$-means, krok ' + str(i+1))\n",
    "    plt.legend(['Data', 'Předchozí středy', 'Nové středy'])\n",
    "    plt.show()\n",
    "    \n",
    "    centers = new_centers"
   ]
  },
  {
   "cell_type": "markdown",
   "metadata": {},
   "source": [
    "### Určování optimální hodnoty $k$\n",
    "Zobrazíme hodnotu účelové funkce vzávislosti na $k$ a budeme hledat bod zlomu (loket)."
   ]
  },
  {
   "cell_type": "code",
   "execution_count": null,
   "metadata": {},
   "outputs": [],
   "source": [
    "ix = np.zeros(5)\n",
    "iy = np.zeros(5)\n",
    "for k in range(ix.shape[0]):\n",
    "    kmeans = KMeans(n_clusters=k+1, random_state = 1)\n",
    "    kmeans.fit(X)\n",
    "    iy[k] = kmeans.inertia_\n",
    "    ix[k] = k+1\n",
    "\n",
    "plt.xlabel('$k$')\n",
    "plt.ylabel('Účelová funkce')\n",
    "plt.plot(ix, iy, 'o-')\n",
    "plt.show()"
   ]
  },
  {
   "cell_type": "markdown",
   "metadata": {},
   "source": [
    "## Úkol 1 - proveďte hierarchické shlukování na Iris datasetu\n",
    "* Hledejte 3 shluky\n",
    "* Diskutujte a kvantifikujte vhodným způsobem kvalitu výsledných shluků ve vztahu ke skutečným druhým kosatců (Setosa, Versicolour a Virginica), které jsou uložené vproměnné y.\n",
    "* Zkuste najít nejlepší metodu měření vzdáleností shluků, aby získané shluky nejvíce odpovídaly skutečným druhům kosatců."
   ]
  },
  {
   "cell_type": "code",
   "execution_count": null,
   "metadata": {},
   "outputs": [],
   "source": [
    "from sklearn import datasets\n",
    "iris = datasets.load_iris()\n",
    "X = iris.data\n",
    "y = iris.target\n",
    "\n",
    "print('X shape:', X.shape)"
   ]
  },
  {
   "cell_type": "code",
   "execution_count": null,
   "metadata": {},
   "outputs": [],
   "source": [
    "## Váš kód napište sem\n"
   ]
  },
  {
   "cell_type": "markdown",
   "metadata": {},
   "source": [
    "### Úkol 2 - proveďte vektorovou kvantizaci obrázku pomocí algoritmu $k$-means\n",
    "Je třeba instalovat balíček Pillow\n",
    "`pip install Pillow`. [(dokumentace zde)](https://pillow.readthedocs.io/en/5.3.x/index.html)\n",
    "\n",
    "Nejprve úvodní část kódu, která nás dovede na začátek vlastního problému."
   ]
  },
  {
   "cell_type": "code",
   "execution_count": null,
   "metadata": {},
   "outputs": [],
   "source": [
    "from PIL import Image\n",
    "# otevření a převedení do stupňů šedi\n",
    "im = Image.open(\"figure.jpg\").convert(\"L\")\n",
    "# normalizace numpy array na čísla mezi 0 a 1\n",
    "pix = np.array(im)/255.0\n",
    "print('Shape of the array:', pix.shape)\n",
    "# Zobrazení\n",
    "plt.imshow(pix, cmap=\"gray\", clim=(0, 1));\n",
    "plt.show()"
   ]
  },
  {
   "cell_type": "markdown",
   "metadata": {},
   "source": [
    "Vlastní úkol:\n",
    "* ořízněte obrázek tak, aby jeho šířka byla násobkem 4\n",
    "* vytvořte sloupcové bločky délky 4 - tj. části z originálního obrázku s rozměry (1,4).\n",
    "* proveďte shlukování pomocí k-means s k = 255 shluky - tj. bude stačit jeden bajt na přenesení informace o příslušnosti ke shluku\n",
    "* extrahujte středy bloků a labely - tj. indexy příslušnosti originálních bločků k jednotlivým shlukům\n",
    "* dekódujte je zpět do pole s rozměrem originálního obrázku - **hint** - využijte: `restored = np.take(centroids, labels, axis = 0)`\n",
    "* zobrazte výsledek\n",
    "* diskutujte redukci velikost pokud použijeme reprezentaci původního obrázku pomocí středů a labelů."
   ]
  },
  {
   "cell_type": "code",
   "execution_count": null,
   "metadata": {},
   "outputs": [],
   "source": [
    "## Váš kód napište sem\n"
   ]
  },
  {
   "cell_type": "code",
   "execution_count": null,
   "metadata": {},
   "outputs": [],
   "source": []
  }
 ],
 "metadata": {
  "kernelspec": {
   "display_name": "Python 3",
   "language": "python",
   "name": "python3"
  },
  "language_info": {
   "codemirror_mode": {
    "name": "ipython",
    "version": 3
   },
   "file_extension": ".py",
   "mimetype": "text/x-python",
   "name": "python",
   "nbconvert_exporter": "python",
   "pygments_lexer": "ipython3",
   "version": "3.6.6"
  }
 },
 "nbformat": 4,
 "nbformat_minor": 2
}
