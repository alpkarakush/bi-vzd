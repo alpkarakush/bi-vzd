{
 "cells": [
  {
   "cell_type": "markdown",
   "metadata": {},
   "source": [
    "# Rozhodovací stromy pro regresi a ensemble metody"
   ]
  },
  {
   "cell_type": "markdown",
   "metadata": {},
   "source": [
    "  * V tomto notebooku si budeme hrát s populárním datasetem stahnutým z [Kaggle.com](https://www.kaggle.com/c/house-prices-advanced-regression-techniques).\n",
    "  * Jedná se o údaje o domech a jejich cenách. Cílem je předpovědět **cenu domu (příznak SalePrice)** na základě celkem 79 příznaků.\n",
    "\n",
    "### Sloupce v datasetu jsou (anglicky):\n",
    "\n",
    "  * **SalePrice** - the property's sale price in dollars. This is the target variable that you're trying to predict.\n",
    "  * **MSSubClass**: The building class\n",
    "  * **MSZoning**: The general zoning classification\n",
    "  * **LotFrontage**: Linear feet of street connected to property\n",
    "  * **LotArea**: Lot size in square feet\n",
    "  * **Street**: Type of road access\n",
    "  * **Alley**: Type of alley access\n",
    "  * **LotShape**: General shape of property\n",
    "  * **LandContour**: Flatness of the property\n",
    "  * **Utilities**: Type of utilities available\n",
    "  * **LotConfig**: Lot configuration\n",
    "  * **LandSlope**: Slope of property\n",
    "  * **Neighborhood**: Physical locations within Ames city limits\n",
    "  * **Condition1**: Proximity to main road or railroad\n",
    "  * **Condition2**: Proximity to main road or railroad (if a second is present)\n",
    "  * **BldgType**: Type of dwelling\n",
    "  * **HouseStyle**: Style of dwelling\n",
    "  * **OverallQual**: Overall material and finish quality\n",
    "  * **OverallCond**: Overall condition rating\n",
    "  * **YearBuilt**: Original construction date\n",
    "  * **YearRemodAdd**: Remodel date\n",
    "  * **RoofStyle**: Type of roof\n",
    "  * **RoofMatl**: Roof material\n",
    "  * **Exterior1st**: Exterior covering on house\n",
    "  * **Exterior2nd**: Exterior covering on house (if more than one material)\n",
    "  * **MasVnrType**: Masonry veneer type\n",
    "  * **MasVnrArea**: Masonry veneer area in square feet\n",
    "  * **ExterQual**: Exterior material quality\n",
    "  * **ExterCond**: Present condition of the material on the exterior\n",
    "  * **Foundation**: Type of foundation\n",
    "  * **BsmtQual**: Height of the basement\n",
    "  * **BsmtCond**: General condition of the basement\n",
    "  * **BsmtExposure**: Walkout or garden level basement walls\n",
    "  * **BsmtFinType1**: Quality of basement finished area\n",
    "  * **BsmtFinSF1**: Type 1 finished square feet\n",
    "  * **BsmtFinType2**: Quality of second finished area (if present)\n",
    "  * **BsmtFinSF2**: Type 2 finished square feet\n",
    "  * **BsmtUnfSF**: Unfinished square feet of basement area\n",
    "  * **TotalBsmtSF**: Total square feet of basement area\n",
    "  * **Heating**: Type of heating\n",
    "  * **HeatingQC**: Heating quality and condition\n",
    "  * **CentralAir**: Central air conditioning\n",
    "  * **Electrical**: Electrical system\n",
    "  * **1stFlrSF**: First Floor square feet\n",
    "  * **2ndFlrSF**: Second floor square feet\n",
    "  * **LowQualFinSF**: Low quality finished square feet (all floors)\n",
    "  * **GrLivArea**: Above grade (ground) living area square feet\n",
    "  * **BsmtFullBath**: Basement full bathrooms\n",
    "  * **BsmtHalfBath**: Basement half bathrooms\n",
    "  * **FullBath**: Full bathrooms above grade\n",
    "  * **HalfBath**: Half baths above grade\n",
    "  * **Bedroom**: Number of bedrooms above basement level\n",
    "  * **Kitchen**: Number of kitchens\n",
    "  * **KitchenQual**: Kitchen quality\n",
    "  * **TotRmsAbvGrd**: Total rooms above grade (does not include bathrooms)\n",
    "  * **Functional**: Home functionality rating\n",
    "  * **Fireplaces**: Number of fireplaces\n",
    "  * **FireplaceQu**: Fireplace quality\n",
    "  * **GarageType**: Garage location\n",
    "  * **GarageYrBlt**: Year garage was built\n",
    "  * **GarageFinish**: Interior finish of the garage\n",
    "  * **GarageCars**: Size of garage in car capacity\n",
    "  * **GarageArea**: Size of garage in square feet\n",
    "  * **GarageQual**: Garage quality\n",
    "  * **GarageCond**: Garage condition\n",
    "  * **PavedDrive**: Paved driveway\n",
    "  * **WoodDeckSF**: Wood deck area in square feet\n",
    "  * **OpenPorchSF**: Open porch area in square feet\n",
    "  * **EnclosedPorch**: Enclosed porch area in square feet\n",
    "  * **3SsnPorch**: Three season porch area in square feet\n",
    "  * **ScreenPorch**: Screen porch area in square feet\n",
    "  * **PoolArea**: Pool area in square feet\n",
    "  * **PoolQC**: Pool quality\n",
    "  * **Fence**: Fence quality\n",
    "  * **MiscFeature**: Miscellaneous feature not covered in other categories\n",
    "  * **MiscVal**: $Value of miscellaneous feature\n",
    "  * **MoSold**: Month Sold\n",
    "  * **YrSold**: Year Sold\n",
    "  * **SaleType**: Type of sale\n",
    "  * **SaleCondition**: Condition of sale"
   ]
  },
  {
   "cell_type": "code",
   "execution_count": null,
   "metadata": {},
   "outputs": [],
   "source": [
    "import math\n",
    "import pandas as pd\n",
    "import numpy as np\n",
    "import seaborn as sns\n",
    "import sklearn.metrics as metrics\n",
    "from sklearn.model_selection import ParameterGrid\n",
    "import matplotlib.pyplot as plt\n",
    "import matplotlib\n",
    "%matplotlib inline\n",
    "\n",
    "import warnings\n",
    "warnings.filterwarnings('ignore')"
   ]
  },
  {
   "cell_type": "code",
   "execution_count": null,
   "metadata": {},
   "outputs": [],
   "source": [
    "data = pd.read_csv('house-prices-train.csv')\n",
    "data.info()"
   ]
  },
  {
   "cell_type": "markdown",
   "metadata": {},
   "source": [
    "## První pokus o použití DecisionTreeRegressor"
   ]
  },
  {
   "cell_type": "code",
   "execution_count": null,
   "metadata": {},
   "outputs": [],
   "source": [
    "from sklearn.tree import DecisionTreeRegressor"
   ]
  },
  {
   "cell_type": "code",
   "execution_count": null,
   "metadata": {},
   "outputs": [],
   "source": [
    "dt = DecisionTreeRegressor(max_depth=3)\n",
    "dt.fit(data.drop(columns=['SalePrice']), data.SalePrice)"
   ]
  },
  {
   "cell_type": "markdown",
   "metadata": {},
   "source": [
    "  * Potřebujeme převést textové příznaky (`dtype = object`) na příznaky číselné.\n",
    "  * Zkusme nejprve nastavit jejich typ na *kategoriální* (`dtype = category`). Pandas si pak tyto příznaky interně ukládá jako číselné. \n",
    "  * Jako kategoriální lze cháat pouze příznaky *s ne moc růnými hodnotami* (anpř. jméno není vhodné)."
   ]
  },
  {
   "cell_type": "code",
   "execution_count": null,
   "metadata": {},
   "outputs": [],
   "source": [
    "str_cols = data.select_dtypes('object').columns\n",
    "print('There are {} columns with string values'.format(len(str_cols)))\n",
    "data[str_cols].nunique()"
   ]
  },
  {
   "cell_type": "markdown",
   "metadata": {},
   "source": [
    "  * V našem případě lze brát jako kategoriální všechny textové příznaky."
   ]
  },
  {
   "cell_type": "code",
   "execution_count": null,
   "metadata": {},
   "outputs": [],
   "source": [
    "for col in str_cols:\n",
    "    data[col] = data[col].astype('category')\n",
    "data.info()"
   ]
  },
  {
   "cell_type": "code",
   "execution_count": null,
   "metadata": {},
   "outputs": [],
   "source": [
    "dt = DecisionTreeRegressor(max_depth=3)\n",
    "dt.fit(data.drop(columns=['SalePrice']), data.SalePrice)"
   ]
  },
  {
   "cell_type": "markdown",
   "metadata": {},
   "source": [
    "  * **Implementace rozhodovacích stromů v `scikit-learn` tedy nepodporuje `dtype = category`!** \n",
    "  * Vývojáři se o tom baví [zde](https://github.com/scikit-learn/scikit-learn/pull/4899).\n",
    "  * Musíme i katedoriální proměnné nahradit čísly.\n",
    "  * Pro řazené kategoriální příznaky (tzv. **ordinální**) je tento přístup v pořádku.\n",
    "  * Pro ty neřazené (**nominální**) je tento přístup poněkud nešťastný (čísla seřazená vřdycky jsou).\n",
    "  * Nominální příznaky tak můžeme nahradit tzv. **dummy** přínzaky pomocí **one-hot encoding**.\n",
    "  * Bohužel ale rozhodnutí, který příznak je nominální a který ordinální, lze jen stěží automatizovat a je nutné postupovat ručně.\n",
    "  * Dobrým kandidátem pro ordinální příznak je *KitchenQual*. "
   ]
  },
  {
   "cell_type": "code",
   "execution_count": null,
   "metadata": {},
   "outputs": [],
   "source": [
    "data.KitchenQual.unique()"
   ]
  },
  {
   "cell_type": "markdown",
   "metadata": {},
   "source": [
    "  * Dle popisu v souboru `data_description.txt`: Ex = Excellent, Gd = Good, TA = Typical/Average, Fa = Fair, Po = Poor.\n",
    "  * Takže bychom chtěli tyto textové hosnoty nahradit čísly tak, aby se zachovalo pořadí Po < Fa < TA < Gd < Ex."
   ]
  },
  {
   "cell_type": "code",
   "execution_count": null,
   "metadata": {},
   "outputs": [],
   "source": [
    "mapper = {\n",
    "    'Po' : 0,\n",
    "    'Fa' : 1,\n",
    "    'TA' : 2,\n",
    "    'Gd' : 3,\n",
    "    'Ex' : 4\n",
    "}\n",
    "display(data.KitchenQual.replace(mapper).head(10))\n",
    "display(data.KitchenQual.head(10))\n",
    "data.KitchenQual = data.KitchenQual.replace(mapper)"
   ]
  },
  {
   "cell_type": "code",
   "execution_count": null,
   "metadata": {},
   "outputs": [],
   "source": [
    "from sklearn.preprocessing import LabelEncoder\n",
    "def encode_categories(df, mappers, dummies=False):\n",
    "    le = LabelEncoder()\n",
    "    for col in df.select_dtypes('object').columns:\n",
    "        if col not in mappers and df[col].nunique() < 30:\n",
    "            df[col] = df[col].fillna('NaN')\n",
    "            df[col] = le.fit_transform(df[col])\n",
    "            if dummies:\n",
    "                prefix = 'd_' + col\n",
    "                df = pd.concat([df.drop(columns=[col]), pd.get_dummies(df[col], prefix=prefix)], axis=1)\n",
    "        elif col in mappers:\n",
    "            df[col] = df[col].replace(mappers[col])\n",
    "    return df\n",
    "        "
   ]
  },
  {
   "cell_type": "code",
   "execution_count": null,
   "metadata": {},
   "outputs": [],
   "source": [
    "data = pd.read_csv('house-prices-train.csv')\n",
    "ordinal_cols_mappers = {\n",
    "    'KitchenQual': {'Po' : 0, 'Fa' : 1, 'TA' : 2, 'Gd' : 3, 'Ex' : 4}\n",
    "}\n",
    "data = encode_categories(data, ordinal_cols_mappers)\n",
    "data.fillna('-1', inplace=True)\n",
    "data.SalePrice = np.log1p(data.SalePrice)\n",
    "data.shape"
   ]
  },
  {
   "cell_type": "markdown",
   "metadata": {},
   "source": [
    " * Zkusme to s DecisionTreeRegressor znovu."
   ]
  },
  {
   "cell_type": "code",
   "execution_count": null,
   "metadata": {},
   "outputs": [],
   "source": [
    "dt = DecisionTreeRegressor(max_depth=3)\n",
    "dt.fit(data.drop(columns=['SalePrice']), data.SalePrice)"
   ]
  },
  {
   "cell_type": "code",
   "execution_count": null,
   "metadata": {},
   "outputs": [],
   "source": [
    "from sklearn.model_selection import train_test_split\n",
    "def split_data(Xdata, ydata, ratio=0.25, rd_seed=5656):\n",
    "    Xtrain, Xtest, ytrain, ytest = train_test_split(Xdata, ydata, test_size=0.25, random_state=rd_seed) \n",
    "    Xtrain, Xval, ytrain, yval = train_test_split(Xtrain, ytrain, test_size=0.25, random_state=rd_seed) \n",
    "    return Xtrain, Xtest, Xval, ytrain, ytest, yval"
   ]
  },
  {
   "cell_type": "code",
   "execution_count": null,
   "metadata": {},
   "outputs": [],
   "source": [
    "Xtrain, Xtest, Xval, ytrain, ytest, yval = split_data(data.drop(columns=['SalePrice']), data.SalePrice)"
   ]
  },
  {
   "cell_type": "code",
   "execution_count": null,
   "metadata": {},
   "outputs": [],
   "source": [
    "param_grid = {\n",
    "    'max_depth': range(1,10)\n",
    "}\n",
    "param_comb = ParameterGrid(param_grid)\n",
    "val_acc = []\n",
    "for params in param_comb:\n",
    "    dt = DecisionTreeRegressor(**params)\n",
    "    dt.fit(Xtrain, ytrain)\n",
    "    val_acc.append(math.sqrt(metrics.mean_squared_error(yval, dt.predict(Xval))))\n",
    "best_params = param_comb[np.argmin(val_acc)]\n",
    "print(best_params)\n",
    "dt = DecisionTreeRegressor(**best_params)\n",
    "dt.fit(Xtrain, ytrain)\n",
    "print('RMSLE (train): {0:.6f}'.format(math.sqrt(metrics.mean_squared_error(ytrain, dt.predict(Xtrain)))))\n",
    "print('RMSLE (validation): {0:.6f}'.format(math.sqrt(metrics.mean_squared_error(yval, dt.predict(Xval)))))\n",
    "print('RMSLE (test): {0:.6f}'.format(math.sqrt(metrics.mean_squared_error(ytest, dt.predict(Xtest)))))"
   ]
  },
  {
   "cell_type": "markdown",
   "metadata": {},
   "source": [
    "## Náhodný les `RandomForestRegressor`\n",
    "\n",
    "  * Použití lesa místo stromu je `sklearn` velice jednoduché: stačí nahradit `DecisionTreeRegressor` v kódu výše  třídou `RandomForestRegressor`.\n",
    "  * Má skoro stejné parametry jako `DecisionTreeRegressor`.\n",
    "  * Má ale také jeden nový (`n_estimators`), který je zásadní a určuje počet stromů v lese."
   ]
  },
  {
   "cell_type": "code",
   "execution_count": null,
   "metadata": {},
   "outputs": [],
   "source": [
    "from sklearn.ensemble import RandomForestRegressor"
   ]
  },
  {
   "cell_type": "code",
   "execution_count": null,
   "metadata": {},
   "outputs": [],
   "source": [
    "param_grid = {\n",
    "    'n_estimators': range(1,100,5),\n",
    "    'max_depth': range(1,5)\n",
    "}\n",
    "param_comb = ParameterGrid(param_grid)\n",
    "val_acc = []\n",
    "for params in param_comb:\n",
    "    dt = RandomForestRegressor(**params)\n",
    "    dt.fit(Xtrain, ytrain)\n",
    "    val_acc.append(math.sqrt(metrics.mean_squared_error(yval, dt.predict(Xval))))\n",
    "best_params = param_comb[np.argmin(val_acc)]\n",
    "print(best_params)\n",
    "dt = RandomForestRegressor(**best_params)\n",
    "dt.fit(Xtrain, ytrain)\n",
    "print('RMSLE (train): {0:.6f}'.format(math.sqrt(metrics.mean_squared_error(ytrain, dt.predict(Xtrain)))))\n",
    "print('RMSLE (validation): {0:.6f}'.format(math.sqrt(metrics.mean_squared_error(yval, dt.predict(Xval)))))\n",
    "print('RMSLE (test): {0:.6f}'.format(math.sqrt(metrics.mean_squared_error(ytest, dt.predict(Xtest)))))"
   ]
  },
  {
   "cell_type": "markdown",
   "metadata": {},
   "source": [
    "## AdaBoost"
   ]
  },
  {
   "cell_type": "code",
   "execution_count": null,
   "metadata": {},
   "outputs": [],
   "source": [
    "from sklearn.ensemble import AdaBoostRegressor"
   ]
  },
  {
   "cell_type": "code",
   "execution_count": null,
   "metadata": {},
   "outputs": [],
   "source": [
    "param_grid = {\n",
    "    'n_estimators': range(1,100,5),\n",
    "    'learning_rate': [0.01, 0.05, 0.1, 0.3, 0.5, 1]\n",
    "}\n",
    "param_comb = ParameterGrid(param_grid)\n",
    "val_acc = []\n",
    "for params in param_comb:\n",
    "    dt = AdaBoostRegressor(**params)\n",
    "    dt.fit(Xtrain, ytrain)\n",
    "    val_acc.append(math.sqrt(metrics.mean_squared_error(yval, dt.predict(Xval))))\n",
    "best_params = param_comb[np.argmin(val_acc)]\n",
    "print(best_params)\n",
    "dt = AdaBoostRegressor(**best_params)\n",
    "dt.fit(Xtrain, ytrain)\n",
    "print('RMSLE (train): {0:.6f}'.format(math.sqrt(metrics.mean_squared_error(ytrain, dt.predict(Xtrain)))))\n",
    "print('RMSLE (validation): {0:.6f}'.format(math.sqrt(metrics.mean_squared_error(yval, dt.predict(Xval)))))\n",
    "print('RMSLE (test): {0:.6f}'.format(math.sqrt(metrics.mean_squared_error(ytest, dt.predict(Xtest)))))"
   ]
  },
  {
   "cell_type": "markdown",
   "metadata": {},
   "source": [
    "# Úkol: zkuste snížit RMSLE jak to jen jde"
   ]
  },
  {
   "cell_type": "code",
   "execution_count": null,
   "metadata": {},
   "outputs": [],
   "source": [
    "data = pd.read_csv('house-prices-train.csv')\n",
    "data.SalePrice = np.log1p(data.SalePrice)"
   ]
  },
  {
   "cell_type": "code",
   "execution_count": null,
   "metadata": {},
   "outputs": [],
   "source": [
    "### sem napište svůj kód"
   ]
  },
  {
   "cell_type": "code",
   "execution_count": null,
   "metadata": {},
   "outputs": [],
   "source": []
  }
 ],
 "metadata": {
  "kernelspec": {
   "display_name": "Python 3",
   "language": "python",
   "name": "python3"
  },
  "language_info": {
   "codemirror_mode": {
    "name": "ipython",
    "version": 3
   },
   "file_extension": ".py",
   "mimetype": "text/x-python",
   "name": "python",
   "nbconvert_exporter": "python",
   "pygments_lexer": "ipython3",
   "version": "3.6.6"
  }
 },
 "nbformat": 4,
 "nbformat_minor": 2
}
